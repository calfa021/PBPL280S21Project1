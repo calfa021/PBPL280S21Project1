{
 "cells": [
  {
   "cell_type": "code",
   "execution_count": 1,
   "id": "483a1074",
   "metadata": {},
   "outputs": [],
   "source": [
    "import pandas\n",
    "import pandas as pd\n",
    "import geopandas as gpd\n",
    "from tobler.area_weighted import area_interpolate\n",
    "from tobler.dasymetric import masked_area_interpolate\n",
    "import matplotlib.pyplot as plt\n",
    "import seaborn as sns"
   ]
  },
  {
   "cell_type": "code",
   "execution_count": 2,
   "id": "87e62f39",
   "metadata": {},
   "outputs": [],
   "source": [
    "income = gpd.read_parquet('./income/ca_tract_incomes.parquet')"
   ]
  },
  {
   "cell_type": "code",
   "execution_count": 3,
   "id": "0e3cbd5b",
   "metadata": {},
   "outputs": [
    {
     "data": {
      "text/html": [
       "<div>\n",
       "<style scoped>\n",
       "    .dataframe tbody tr th:only-of-type {\n",
       "        vertical-align: middle;\n",
       "    }\n",
       "\n",
       "    .dataframe tbody tr th {\n",
       "        vertical-align: top;\n",
       "    }\n",
       "\n",
       "    .dataframe thead th {\n",
       "        text-align: right;\n",
       "    }\n",
       "</style>\n",
       "<table border=\"1\" class=\"dataframe\">\n",
       "  <thead>\n",
       "    <tr style=\"text-align: right;\">\n",
       "      <th></th>\n",
       "      <th>GEOID</th>\n",
       "      <th>median_household_income</th>\n",
       "      <th>median_home_value</th>\n",
       "      <th>per_capita_income</th>\n",
       "      <th>geometry</th>\n",
       "    </tr>\n",
       "  </thead>\n",
       "  <tbody>\n",
       "    <tr>\n",
       "      <th>0</th>\n",
       "      <td>06037554001</td>\n",
       "      <td>55703.0</td>\n",
       "      <td>450200.0</td>\n",
       "      <td>23331.0</td>\n",
       "      <td>POLYGON ((5987925.784 2275112.258, 5988249.105...</td>\n",
       "    </tr>\n",
       "    <tr>\n",
       "      <th>1</th>\n",
       "      <td>06037554002</td>\n",
       "      <td>56452.0</td>\n",
       "      <td>461200.0</td>\n",
       "      <td>22520.0</td>\n",
       "      <td>POLYGON ((5987299.089 2275049.015, 5987348.882...</td>\n",
       "    </tr>\n",
       "    <tr>\n",
       "      <th>2</th>\n",
       "      <td>06037554101</td>\n",
       "      <td>42969.0</td>\n",
       "      <td>453200.0</td>\n",
       "      <td>19127.0</td>\n",
       "      <td>POLYGON ((5992628.264 2276367.468, 5992690.382...</td>\n",
       "    </tr>\n",
       "    <tr>\n",
       "      <th>3</th>\n",
       "      <td>06037554103</td>\n",
       "      <td>81480.0</td>\n",
       "      <td>460200.0</td>\n",
       "      <td>34880.0</td>\n",
       "      <td>POLYGON ((5992635.820 2276956.239, 5992710.707...</td>\n",
       "    </tr>\n",
       "    <tr>\n",
       "      <th>4</th>\n",
       "      <td>06037554104</td>\n",
       "      <td>63625.0</td>\n",
       "      <td>464800.0</td>\n",
       "      <td>20344.0</td>\n",
       "      <td>POLYGON ((5993599.563 2274986.574, 5993703.488...</td>\n",
       "    </tr>\n",
       "  </tbody>\n",
       "</table>\n",
       "</div>"
      ],
      "text/plain": [
       "         GEOID  median_household_income  median_home_value  per_capita_income  \\\n",
       "0  06037554001                  55703.0           450200.0            23331.0   \n",
       "1  06037554002                  56452.0           461200.0            22520.0   \n",
       "2  06037554101                  42969.0           453200.0            19127.0   \n",
       "3  06037554103                  81480.0           460200.0            34880.0   \n",
       "4  06037554104                  63625.0           464800.0            20344.0   \n",
       "\n",
       "                                            geometry  \n",
       "0  POLYGON ((5987925.784 2275112.258, 5988249.105...  \n",
       "1  POLYGON ((5987299.089 2275049.015, 5987348.882...  \n",
       "2  POLYGON ((5992628.264 2276367.468, 5992690.382...  \n",
       "3  POLYGON ((5992635.820 2276956.239, 5992710.707...  \n",
       "4  POLYGON ((5993599.563 2274986.574, 5993703.488...  "
      ]
     },
     "execution_count": 3,
     "metadata": {},
     "output_type": "execute_result"
    }
   ],
   "source": [
    "income.head()"
   ]
  },
  {
   "cell_type": "code",
   "execution_count": 4,
   "id": "1615d2d1",
   "metadata": {},
   "outputs": [
    {
     "name": "stdout",
     "output_type": "stream",
     "text": [
      "<class 'geopandas.geodataframe.GeoDataFrame'>\n",
      "Int64Index: 8057 entries, 0 to 8056\n",
      "Data columns (total 5 columns):\n",
      " #   Column                   Non-Null Count  Dtype   \n",
      "---  ------                   --------------  -----   \n",
      " 0   GEOID                    8057 non-null   object  \n",
      " 1   median_household_income  7965 non-null   float64 \n",
      " 2   median_home_value        7831 non-null   float64 \n",
      " 3   per_capita_income        8007 non-null   float64 \n",
      " 4   geometry                 8057 non-null   geometry\n",
      "dtypes: float64(3), geometry(1), object(1)\n",
      "memory usage: 377.7+ KB\n"
     ]
    }
   ],
   "source": [
    "income.info()"
   ]
  },
  {
   "cell_type": "code",
   "execution_count": 5,
   "id": "e8a763f4",
   "metadata": {},
   "outputs": [],
   "source": [
    "income['GEOID'] = income['GEOID'].astype(str).str[:5]"
   ]
  },
  {
   "cell_type": "code",
   "execution_count": 6,
   "id": "31eda4ab",
   "metadata": {},
   "outputs": [
    {
     "data": {
      "text/plain": [
       "0       06037\n",
       "1       06037\n",
       "2       06037\n",
       "3       06037\n",
       "4       06037\n",
       "        ...  \n",
       "8052    06115\n",
       "8053    06115\n",
       "8054    06115\n",
       "8055    06115\n",
       "8056    06115\n",
       "Name: GEOID, Length: 8057, dtype: object"
      ]
     },
     "execution_count": 6,
     "metadata": {},
     "output_type": "execute_result"
    }
   ],
   "source": [
    "income.GEOID.astype('object')"
   ]
  },
  {
   "cell_type": "code",
   "execution_count": 7,
   "id": "e4afd689",
   "metadata": {},
   "outputs": [
    {
     "data": {
      "text/html": [
       "<div>\n",
       "<style scoped>\n",
       "    .dataframe tbody tr th:only-of-type {\n",
       "        vertical-align: middle;\n",
       "    }\n",
       "\n",
       "    .dataframe tbody tr th {\n",
       "        vertical-align: top;\n",
       "    }\n",
       "\n",
       "    .dataframe thead th {\n",
       "        text-align: right;\n",
       "    }\n",
       "</style>\n",
       "<table border=\"1\" class=\"dataframe\">\n",
       "  <thead>\n",
       "    <tr style=\"text-align: right;\">\n",
       "      <th></th>\n",
       "      <th>GEOID</th>\n",
       "      <th>median_household_income</th>\n",
       "      <th>median_home_value</th>\n",
       "      <th>per_capita_income</th>\n",
       "      <th>geometry</th>\n",
       "    </tr>\n",
       "  </thead>\n",
       "  <tbody>\n",
       "    <tr>\n",
       "      <th>0</th>\n",
       "      <td>06037</td>\n",
       "      <td>55703.0</td>\n",
       "      <td>450200.0</td>\n",
       "      <td>23331.0</td>\n",
       "      <td>POLYGON ((5987925.784 2275112.258, 5988249.105...</td>\n",
       "    </tr>\n",
       "    <tr>\n",
       "      <th>1</th>\n",
       "      <td>06037</td>\n",
       "      <td>56452.0</td>\n",
       "      <td>461200.0</td>\n",
       "      <td>22520.0</td>\n",
       "      <td>POLYGON ((5987299.089 2275049.015, 5987348.882...</td>\n",
       "    </tr>\n",
       "    <tr>\n",
       "      <th>2</th>\n",
       "      <td>06037</td>\n",
       "      <td>42969.0</td>\n",
       "      <td>453200.0</td>\n",
       "      <td>19127.0</td>\n",
       "      <td>POLYGON ((5992628.264 2276367.468, 5992690.382...</td>\n",
       "    </tr>\n",
       "    <tr>\n",
       "      <th>3</th>\n",
       "      <td>06037</td>\n",
       "      <td>81480.0</td>\n",
       "      <td>460200.0</td>\n",
       "      <td>34880.0</td>\n",
       "      <td>POLYGON ((5992635.820 2276956.239, 5992710.707...</td>\n",
       "    </tr>\n",
       "    <tr>\n",
       "      <th>4</th>\n",
       "      <td>06037</td>\n",
       "      <td>63625.0</td>\n",
       "      <td>464800.0</td>\n",
       "      <td>20344.0</td>\n",
       "      <td>POLYGON ((5993599.563 2274986.574, 5993703.488...</td>\n",
       "    </tr>\n",
       "  </tbody>\n",
       "</table>\n",
       "</div>"
      ],
      "text/plain": [
       "   GEOID  median_household_income  median_home_value  per_capita_income  \\\n",
       "0  06037                  55703.0           450200.0            23331.0   \n",
       "1  06037                  56452.0           461200.0            22520.0   \n",
       "2  06037                  42969.0           453200.0            19127.0   \n",
       "3  06037                  81480.0           460200.0            34880.0   \n",
       "4  06037                  63625.0           464800.0            20344.0   \n",
       "\n",
       "                                            geometry  \n",
       "0  POLYGON ((5987925.784 2275112.258, 5988249.105...  \n",
       "1  POLYGON ((5987299.089 2275049.015, 5987348.882...  \n",
       "2  POLYGON ((5992628.264 2276367.468, 5992690.382...  \n",
       "3  POLYGON ((5992635.820 2276956.239, 5992710.707...  \n",
       "4  POLYGON ((5993599.563 2274986.574, 5993703.488...  "
      ]
     },
     "execution_count": 7,
     "metadata": {},
     "output_type": "execute_result"
    }
   ],
   "source": [
    "income.head()"
   ]
  },
  {
   "cell_type": "code",
   "execution_count": null,
   "id": "253b7473",
   "metadata": {},
   "outputs": [],
   "source": []
  },
  {
   "cell_type": "code",
   "execution_count": 8,
   "id": "1c558990",
   "metadata": {},
   "outputs": [],
   "source": [
    "income = income[['GEOID','geometry','median_household_income', 'median_home_value', 'per_capita_income']]"
   ]
  },
  {
   "cell_type": "code",
   "execution_count": 9,
   "id": "98c79e57",
   "metadata": {},
   "outputs": [],
   "source": [
    "county_income = income.dissolve(by='GEOID', aggfunc='sum')"
   ]
  },
  {
   "cell_type": "code",
   "execution_count": 10,
   "id": "7a0ba850",
   "metadata": {},
   "outputs": [
    {
     "data": {
      "text/html": [
       "<div>\n",
       "<style scoped>\n",
       "    .dataframe tbody tr th:only-of-type {\n",
       "        vertical-align: middle;\n",
       "    }\n",
       "\n",
       "    .dataframe tbody tr th {\n",
       "        vertical-align: top;\n",
       "    }\n",
       "\n",
       "    .dataframe thead th {\n",
       "        text-align: right;\n",
       "    }\n",
       "</style>\n",
       "<table border=\"1\" class=\"dataframe\">\n",
       "  <thead>\n",
       "    <tr style=\"text-align: right;\">\n",
       "      <th></th>\n",
       "      <th>geometry</th>\n",
       "      <th>median_household_income</th>\n",
       "      <th>median_home_value</th>\n",
       "      <th>per_capita_income</th>\n",
       "    </tr>\n",
       "    <tr>\n",
       "      <th>GEOID</th>\n",
       "      <th></th>\n",
       "      <th></th>\n",
       "      <th></th>\n",
       "      <th></th>\n",
       "    </tr>\n",
       "  </thead>\n",
       "  <tbody>\n",
       "    <tr>\n",
       "      <th>06001</th>\n",
       "      <td>POLYGON ((4917194.941 3614522.476, 4917150.603...</td>\n",
       "      <td>35617311.0</td>\n",
       "      <td>249149602.0</td>\n",
       "      <td>16280835.0</td>\n",
       "    </tr>\n",
       "    <tr>\n",
       "      <th>06003</th>\n",
       "      <td>POLYGON ((5465900.782 4041889.701, 5465928.761...</td>\n",
       "      <td>64688.0</td>\n",
       "      <td>349000.0</td>\n",
       "      <td>29041.0</td>\n",
       "    </tr>\n",
       "    <tr>\n",
       "      <th>06005</th>\n",
       "      <td>POLYGON ((5327665.355 3945457.409, 5327513.470...</td>\n",
       "      <td>554908.0</td>\n",
       "      <td>2690900.0</td>\n",
       "      <td>272068.0</td>\n",
       "    </tr>\n",
       "    <tr>\n",
       "      <th>06007</th>\n",
       "      <td>POLYGON ((4952368.311 4287623.135, 4952479.510...</td>\n",
       "      <td>2584923.0</td>\n",
       "      <td>12915300.0</td>\n",
       "      <td>1373736.0</td>\n",
       "    </tr>\n",
       "    <tr>\n",
       "      <th>06009</th>\n",
       "      <td>POLYGON ((5371063.042 3841172.558, 5371068.838...</td>\n",
       "      <td>554899.0</td>\n",
       "      <td>2975500.0</td>\n",
       "      <td>366966.0</td>\n",
       "    </tr>\n",
       "  </tbody>\n",
       "</table>\n",
       "</div>"
      ],
      "text/plain": [
       "                                                geometry  \\\n",
       "GEOID                                                      \n",
       "06001  POLYGON ((4917194.941 3614522.476, 4917150.603...   \n",
       "06003  POLYGON ((5465900.782 4041889.701, 5465928.761...   \n",
       "06005  POLYGON ((5327665.355 3945457.409, 5327513.470...   \n",
       "06007  POLYGON ((4952368.311 4287623.135, 4952479.510...   \n",
       "06009  POLYGON ((5371063.042 3841172.558, 5371068.838...   \n",
       "\n",
       "       median_household_income  median_home_value  per_capita_income  \n",
       "GEOID                                                                 \n",
       "06001               35617311.0        249149602.0         16280835.0  \n",
       "06003                  64688.0           349000.0            29041.0  \n",
       "06005                 554908.0          2690900.0           272068.0  \n",
       "06007                2584923.0         12915300.0          1373736.0  \n",
       "06009                 554899.0          2975500.0           366966.0  "
      ]
     },
     "execution_count": 10,
     "metadata": {},
     "output_type": "execute_result"
    }
   ],
   "source": [
    "county_income.head()"
   ]
  },
  {
   "cell_type": "code",
   "execution_count": 11,
   "id": "c5b6367c",
   "metadata": {},
   "outputs": [
    {
     "name": "stdout",
     "output_type": "stream",
     "text": [
      "<class 'geopandas.geodataframe.GeoDataFrame'>\n",
      "Index: 58 entries, 06001 to 06115\n",
      "Data columns (total 4 columns):\n",
      " #   Column                   Non-Null Count  Dtype   \n",
      "---  ------                   --------------  -----   \n",
      " 0   geometry                 58 non-null     geometry\n",
      " 1   median_household_income  58 non-null     float64 \n",
      " 2   median_home_value        58 non-null     float64 \n",
      " 3   per_capita_income        58 non-null     float64 \n",
      "dtypes: float64(3), geometry(1)\n",
      "memory usage: 4.3+ KB\n"
     ]
    }
   ],
   "source": [
    "county_income.info()"
   ]
  },
  {
   "cell_type": "code",
   "execution_count": 12,
   "id": "90c1ba81",
   "metadata": {},
   "outputs": [],
   "source": [
    "county_income.to_csv('county-income.csv')"
   ]
  },
  {
   "cell_type": "code",
   "execution_count": 13,
   "id": "5db4d0ee",
   "metadata": {},
   "outputs": [
    {
     "data": {
      "text/plain": [
       "<AxesSubplot:>"
      ]
     },
     "execution_count": 13,
     "metadata": {},
     "output_type": "execute_result"
    },
    {
     "data": {
      "image/png": "[encoded data removed]",
      "text/plain": [
       "<Figure size 1080x1080 with 1 Axes>"
      ]
     },
     "metadata": {
      "needs_background": "light"
     },
     "output_type": "display_data"
    }
   ],
   "source": [
    "county_income.plot(column='median_household_income', scheme='FisherJenks', k=5, legend=True, figsize=(15,15))"
   ]
  },
  {
   "cell_type": "code",
   "execution_count": 14,
   "id": "776ac4f1",
   "metadata": {},
   "outputs": [],
   "source": [
    "#crs"
   ]
  },
  {
   "cell_type": "code",
   "execution_count": null,
   "id": "3983e2ba",
   "metadata": {},
   "outputs": [],
   "source": []
  },
  {
   "cell_type": "code",
   "execution_count": 15,
   "id": "e222e192",
   "metadata": {},
   "outputs": [],
   "source": [
    "county_income.crs"
   ]
  },
  {
   "cell_type": "code",
   "execution_count": 16,
   "id": "36928361",
   "metadata": {},
   "outputs": [],
   "source": [
    "#School County Data"
   ]
  },
  {
   "cell_type": "code",
   "execution_count": 17,
   "id": "439599aa",
   "metadata": {},
   "outputs": [],
   "source": [
    "sch = gpd.read_parquet('SchoolCounty_Data.parquet')"
   ]
  },
  {
   "cell_type": "code",
   "execution_count": 18,
   "id": "99ee596f",
   "metadata": {},
   "outputs": [
    {
     "data": {
      "text/html": [
       "<div>\n",
       "<style scoped>\n",
       "    .dataframe tbody tr th:only-of-type {\n",
       "        vertical-align: middle;\n",
       "    }\n",
       "\n",
       "    .dataframe tbody tr th {\n",
       "        vertical-align: top;\n",
       "    }\n",
       "\n",
       "    .dataframe thead th {\n",
       "        text-align: right;\n",
       "    }\n",
       "</style>\n",
       "<table border=\"1\" class=\"dataframe\">\n",
       "  <thead>\n",
       "    <tr style=\"text-align: right;\">\n",
       "      <th></th>\n",
       "      <th>geoid</th>\n",
       "      <th>geometry</th>\n",
       "      <th>fips</th>\n",
       "      <th>name</th>\n",
       "      <th>state</th>\n",
       "      <th>CountyName</th>\n",
       "      <th>ChronicAbsenteeismCount</th>\n",
       "      <th>CumulativeEnrollment</th>\n",
       "      <th>absentrate</th>\n",
       "      <th>Dropout (Rate)</th>\n",
       "      <th>Regular HS Diploma Graduates (Rate)</th>\n",
       "    </tr>\n",
       "  </thead>\n",
       "  <tbody>\n",
       "    <tr>\n",
       "      <th>0</th>\n",
       "      <td>06001</td>\n",
       "      <td>POLYGON ((-122.28088 37.70723, -122.28178 37.7...</td>\n",
       "      <td>06001</td>\n",
       "      <td>Alameda</td>\n",
       "      <td>CA</td>\n",
       "      <td>Alameda</td>\n",
       "      <td>373198.0</td>\n",
       "      <td>2345464.0</td>\n",
       "      <td>0.159115</td>\n",
       "      <td>46304.3</td>\n",
       "      <td>345454.1</td>\n",
       "    </tr>\n",
       "    <tr>\n",
       "      <th>1</th>\n",
       "      <td>06005</td>\n",
       "      <td>POLYGON ((-121.02729 38.48136, -121.02729 38.4...</td>\n",
       "      <td>06005</td>\n",
       "      <td>Amador</td>\n",
       "      <td>CA</td>\n",
       "      <td>Amador</td>\n",
       "      <td>7356.0</td>\n",
       "      <td>48087.0</td>\n",
       "      <td>0.152973</td>\n",
       "      <td>863.6</td>\n",
       "      <td>18292.4</td>\n",
       "    </tr>\n",
       "    <tr>\n",
       "      <th>3</th>\n",
       "      <td>06007</td>\n",
       "      <td>POLYGON ((-121.85650 39.53358, -121.85638 39.5...</td>\n",
       "      <td>06007</td>\n",
       "      <td>Butte</td>\n",
       "      <td>CA</td>\n",
       "      <td>Butte</td>\n",
       "      <td>58888.0</td>\n",
       "      <td>338729.0</td>\n",
       "      <td>0.173850</td>\n",
       "      <td>17108.3</td>\n",
       "      <td>88204.6</td>\n",
       "    </tr>\n",
       "    <tr>\n",
       "      <th>5</th>\n",
       "      <td>06009</td>\n",
       "      <td>POLYGON ((-120.63093 38.34110, -120.63057 38.3...</td>\n",
       "      <td>06009</td>\n",
       "      <td>Calaveras</td>\n",
       "      <td>CA</td>\n",
       "      <td>Calaveras</td>\n",
       "      <td>9848.0</td>\n",
       "      <td>58591.0</td>\n",
       "      <td>0.168080</td>\n",
       "      <td>1854.2</td>\n",
       "      <td>29262.6</td>\n",
       "    </tr>\n",
       "    <tr>\n",
       "      <th>6</th>\n",
       "      <td>06011</td>\n",
       "      <td>POLYGON ((-122.08018 39.41420, -122.07996 39.4...</td>\n",
       "      <td>06011</td>\n",
       "      <td>Colusa</td>\n",
       "      <td>CA</td>\n",
       "      <td>Colusa</td>\n",
       "      <td>5371.0</td>\n",
       "      <td>60099.0</td>\n",
       "      <td>0.089369</td>\n",
       "      <td>2365.2</td>\n",
       "      <td>29169.2</td>\n",
       "    </tr>\n",
       "  </tbody>\n",
       "</table>\n",
       "</div>"
      ],
      "text/plain": [
       "   geoid                                           geometry   fips       name  \\\n",
       "0  06001  POLYGON ((-122.28088 37.70723, -122.28178 37.7...  06001    Alameda   \n",
       "1  06005  POLYGON ((-121.02729 38.48136, -121.02729 38.4...  06005     Amador   \n",
       "3  06007  POLYGON ((-121.85650 39.53358, -121.85638 39.5...  06007      Butte   \n",
       "5  06009  POLYGON ((-120.63093 38.34110, -120.63057 38.3...  06009  Calaveras   \n",
       "6  06011  POLYGON ((-122.08018 39.41420, -122.07996 39.4...  06011     Colusa   \n",
       "\n",
       "  state CountyName  ChronicAbsenteeismCount  CumulativeEnrollment  absentrate  \\\n",
       "0    CA    Alameda                 373198.0             2345464.0    0.159115   \n",
       "1    CA     Amador                   7356.0               48087.0    0.152973   \n",
       "3    CA      Butte                  58888.0              338729.0    0.173850   \n",
       "5    CA  Calaveras                   9848.0               58591.0    0.168080   \n",
       "6    CA     Colusa                   5371.0               60099.0    0.089369   \n",
       "\n",
       "   Dropout (Rate)  Regular HS Diploma Graduates (Rate)  \n",
       "0         46304.3                             345454.1  \n",
       "1           863.6                              18292.4  \n",
       "3         17108.3                              88204.6  \n",
       "5          1854.2                              29262.6  \n",
       "6          2365.2                              29169.2  "
      ]
     },
     "execution_count": 18,
     "metadata": {},
     "output_type": "execute_result"
    }
   ],
   "source": [
    "sch.head()"
   ]
  },
  {
   "cell_type": "code",
   "execution_count": 19,
   "id": "f1352ecb",
   "metadata": {},
   "outputs": [
    {
     "name": "stdout",
     "output_type": "stream",
     "text": [
      "<class 'geopandas.geodataframe.GeoDataFrame'>\n",
      "Int64Index: 57 entries, 0 to 84\n",
      "Data columns (total 11 columns):\n",
      " #   Column                               Non-Null Count  Dtype   \n",
      "---  ------                               --------------  -----   \n",
      " 0   geoid                                57 non-null     object  \n",
      " 1   geometry                             57 non-null     geometry\n",
      " 2   fips                                 57 non-null     object  \n",
      " 3   name                                 57 non-null     object  \n",
      " 4   state                                57 non-null     object  \n",
      " 5   CountyName                           57 non-null     object  \n",
      " 6   ChronicAbsenteeismCount              57 non-null     float64 \n",
      " 7   CumulativeEnrollment                 57 non-null     float64 \n",
      " 8   absentrate                           57 non-null     float64 \n",
      " 9   Dropout (Rate)                       57 non-null     float64 \n",
      " 10  Regular HS Diploma Graduates (Rate)  57 non-null     float64 \n",
      "dtypes: float64(5), geometry(1), object(5)\n",
      "memory usage: 5.3+ KB\n"
     ]
    }
   ],
   "source": [
    "sch.info()"
   ]
  },
  {
   "cell_type": "code",
   "execution_count": 20,
   "id": "717f54d1",
   "metadata": {},
   "outputs": [
    {
     "data": {
      "text/plain": [
       "<AxesSubplot:>"
      ]
     },
     "execution_count": 20,
     "metadata": {},
     "output_type": "execute_result"
    },
    {
     "data": {
      "image/png": "[encoded data removed]",
      "text/plain": [
       "<Figure size 1080x1080 with 1 Axes>"
      ]
     },
     "metadata": {
      "needs_background": "light"
     },
     "output_type": "display_data"
    }
   ],
   "source": [
    "sch.plot(column='absentrate', scheme='FisherJenks', k=5, legend=True, figsize=(15,15))"
   ]
  },
  {
   "cell_type": "code",
   "execution_count": 21,
   "id": "2e9e3d00",
   "metadata": {},
   "outputs": [],
   "source": [
    "#crs"
   ]
  },
  {
   "cell_type": "code",
   "execution_count": 22,
   "id": "cb5f8d7e",
   "metadata": {},
   "outputs": [
    {
     "data": {
      "text/plain": [
       "<Geographic 2D CRS: EPSG:4326>\n",
       "Name: WGS 84\n",
       "Axis Info [ellipsoidal]:\n",
       "- Lat[north]: Geodetic latitude (degree)\n",
       "- Lon[east]: Geodetic longitude (degree)\n",
       "Area of Use:\n",
       "- name: World\n",
       "- bounds: (-180.0, -90.0, 180.0, 90.0)\n",
       "Datum: World Geodetic System 1984\n",
       "- Ellipsoid: WGS 84\n",
       "- Prime Meridian: Greenwich"
      ]
     },
     "execution_count": 22,
     "metadata": {},
     "output_type": "execute_result"
    }
   ],
   "source": [
    "sch.crs"
   ]
  },
  {
   "cell_type": "code",
   "execution_count": 23,
   "id": "45323a70",
   "metadata": {},
   "outputs": [],
   "source": [
    "county_income.crs = \"EPSG:4326\" "
   ]
  },
  {
   "cell_type": "code",
   "execution_count": 24,
   "id": "c95dcc1a",
   "metadata": {},
   "outputs": [],
   "source": [
    "county_income = county_income.to_crs(sch.crs)"
   ]
  },
  {
   "cell_type": "code",
   "execution_count": 25,
   "id": "c9d2130f",
   "metadata": {},
   "outputs": [
    {
     "data": {
      "text/plain": [
       "<Geographic 2D CRS: EPSG:4326>\n",
       "Name: WGS 84\n",
       "Axis Info [ellipsoidal]:\n",
       "- Lat[north]: Geodetic latitude (degree)\n",
       "- Lon[east]: Geodetic longitude (degree)\n",
       "Area of Use:\n",
       "- name: World\n",
       "- bounds: (-180.0, -90.0, 180.0, 90.0)\n",
       "Datum: World Geodetic System 1984\n",
       "- Ellipsoid: WGS 84\n",
       "- Prime Meridian: Greenwich"
      ]
     },
     "execution_count": 25,
     "metadata": {},
     "output_type": "execute_result"
    }
   ],
   "source": [
    "county_income.crs"
   ]
  },
  {
   "cell_type": "code",
   "execution_count": 26,
   "id": "da6ed956",
   "metadata": {},
   "outputs": [
    {
     "data": {
      "text/html": [
       "<div>\n",
       "<style scoped>\n",
       "    .dataframe tbody tr th:only-of-type {\n",
       "        vertical-align: middle;\n",
       "    }\n",
       "\n",
       "    .dataframe tbody tr th {\n",
       "        vertical-align: top;\n",
       "    }\n",
       "\n",
       "    .dataframe thead th {\n",
       "        text-align: right;\n",
       "    }\n",
       "</style>\n",
       "<table border=\"1\" class=\"dataframe\">\n",
       "  <thead>\n",
       "    <tr style=\"text-align: right;\">\n",
       "      <th></th>\n",
       "      <th>geometry</th>\n",
       "      <th>median_household_income</th>\n",
       "      <th>median_home_value</th>\n",
       "      <th>per_capita_income</th>\n",
       "    </tr>\n",
       "    <tr>\n",
       "      <th>GEOID</th>\n",
       "      <th></th>\n",
       "      <th></th>\n",
       "      <th></th>\n",
       "      <th></th>\n",
       "    </tr>\n",
       "  </thead>\n",
       "  <tbody>\n",
       "    <tr>\n",
       "      <th>06001</th>\n",
       "      <td>POLYGON ((4917194.941 3614522.476, 4917150.603...</td>\n",
       "      <td>35617311.0</td>\n",
       "      <td>249149602.0</td>\n",
       "      <td>16280835.0</td>\n",
       "    </tr>\n",
       "    <tr>\n",
       "      <th>06003</th>\n",
       "      <td>POLYGON ((5465900.782 4041889.701, 5465928.761...</td>\n",
       "      <td>64688.0</td>\n",
       "      <td>349000.0</td>\n",
       "      <td>29041.0</td>\n",
       "    </tr>\n",
       "    <tr>\n",
       "      <th>06005</th>\n",
       "      <td>POLYGON ((5327665.355 3945457.409, 5327513.470...</td>\n",
       "      <td>554908.0</td>\n",
       "      <td>2690900.0</td>\n",
       "      <td>272068.0</td>\n",
       "    </tr>\n",
       "    <tr>\n",
       "      <th>06007</th>\n",
       "      <td>POLYGON ((4952368.311 4287623.135, 4952479.510...</td>\n",
       "      <td>2584923.0</td>\n",
       "      <td>12915300.0</td>\n",
       "      <td>1373736.0</td>\n",
       "    </tr>\n",
       "    <tr>\n",
       "      <th>06009</th>\n",
       "      <td>POLYGON ((5371063.042 3841172.558, 5371068.838...</td>\n",
       "      <td>554899.0</td>\n",
       "      <td>2975500.0</td>\n",
       "      <td>366966.0</td>\n",
       "    </tr>\n",
       "  </tbody>\n",
       "</table>\n",
       "</div>"
      ],
      "text/plain": [
       "                                                geometry  \\\n",
       "GEOID                                                      \n",
       "06001  POLYGON ((4917194.941 3614522.476, 4917150.603...   \n",
       "06003  POLYGON ((5465900.782 4041889.701, 5465928.761...   \n",
       "06005  POLYGON ((5327665.355 3945457.409, 5327513.470...   \n",
       "06007  POLYGON ((4952368.311 4287623.135, 4952479.510...   \n",
       "06009  POLYGON ((5371063.042 3841172.558, 5371068.838...   \n",
       "\n",
       "       median_household_income  median_home_value  per_capita_income  \n",
       "GEOID                                                                 \n",
       "06001               35617311.0        249149602.0         16280835.0  \n",
       "06003                  64688.0           349000.0            29041.0  \n",
       "06005                 554908.0          2690900.0           272068.0  \n",
       "06007                2584923.0         12915300.0          1373736.0  \n",
       "06009                 554899.0          2975500.0           366966.0  "
      ]
     },
     "execution_count": 26,
     "metadata": {},
     "output_type": "execute_result"
    }
   ],
   "source": [
    "county_income.head()"
   ]
  },
  {
   "cell_type": "code",
   "execution_count": null,
   "id": "bc9e6354",
   "metadata": {},
   "outputs": [],
   "source": []
  },
  {
   "cell_type": "code",
   "execution_count": 28,
   "id": "a8b4570b",
   "metadata": {},
   "outputs": [],
   "source": [
    "sch_income = gpd.sjoin(sch, county_income, how='inner', op='intersects')"
   ]
  },
  {
   "cell_type": "code",
   "execution_count": 29,
   "id": "0c6173b0",
   "metadata": {},
   "outputs": [
    {
     "data": {
      "text/html": [
       "<div>\n",
       "<style scoped>\n",
       "    .dataframe tbody tr th:only-of-type {\n",
       "        vertical-align: middle;\n",
       "    }\n",
       "\n",
       "    .dataframe tbody tr th {\n",
       "        vertical-align: top;\n",
       "    }\n",
       "\n",
       "    .dataframe thead th {\n",
       "        text-align: right;\n",
       "    }\n",
       "</style>\n",
       "<table border=\"1\" class=\"dataframe\">\n",
       "  <thead>\n",
       "    <tr style=\"text-align: right;\">\n",
       "      <th></th>\n",
       "      <th>geoid</th>\n",
       "      <th>geometry</th>\n",
       "      <th>fips</th>\n",
       "      <th>name</th>\n",
       "      <th>state</th>\n",
       "      <th>CountyName</th>\n",
       "      <th>ChronicAbsenteeismCount</th>\n",
       "      <th>CumulativeEnrollment</th>\n",
       "      <th>absentrate</th>\n",
       "      <th>Dropout (Rate)</th>\n",
       "      <th>Regular HS Diploma Graduates (Rate)</th>\n",
       "      <th>index_right</th>\n",
       "      <th>median_household_income</th>\n",
       "      <th>median_home_value</th>\n",
       "      <th>per_capita_income</th>\n",
       "    </tr>\n",
       "  </thead>\n",
       "  <tbody>\n",
       "  </tbody>\n",
       "</table>\n",
       "</div>"
      ],
      "text/plain": [
       "Empty GeoDataFrame\n",
       "Columns: [geoid, geometry, fips, name, state, CountyName, ChronicAbsenteeismCount, CumulativeEnrollment, absentrate, Dropout (Rate), Regular HS Diploma Graduates (Rate), index_right, median_household_income, median_home_value, per_capita_income]\n",
       "Index: []"
      ]
     },
     "execution_count": 29,
     "metadata": {},
     "output_type": "execute_result"
    }
   ],
   "source": [
    "sch_income.head()"
   ]
  },
  {
   "cell_type": "code",
   "execution_count": 32,
   "id": "e059a22f",
   "metadata": {},
   "outputs": [],
   "source": [
    "#sch_income .shape"
   ]
  },
  {
   "cell_type": "code",
   "execution_count": 33,
   "id": "4756cb04",
   "metadata": {},
   "outputs": [],
   "source": [
    "#sch_income.plot()"
   ]
  },
  {
   "cell_type": "code",
   "execution_count": 34,
   "id": "23079983",
   "metadata": {},
   "outputs": [],
   "source": [
    "demographic = gpd.read_parquet('demographics_tracts.parquet')"
   ]
  },
  {
   "cell_type": "code",
   "execution_count": 35,
   "id": "5bd1edf5",
   "metadata": {},
   "outputs": [
    {
     "data": {
      "text/html": [
       "<div>\n",
       "<style scoped>\n",
       "    .dataframe tbody tr th:only-of-type {\n",
       "        vertical-align: middle;\n",
       "    }\n",
       "\n",
       "    .dataframe tbody tr th {\n",
       "        vertical-align: top;\n",
       "    }\n",
       "\n",
       "    .dataframe thead th {\n",
       "        text-align: right;\n",
       "    }\n",
       "</style>\n",
       "<table border=\"1\" class=\"dataframe\">\n",
       "  <thead>\n",
       "    <tr style=\"text-align: right;\">\n",
       "      <th></th>\n",
       "      <th>GEOID1</th>\n",
       "      <th>total_mf_10_19</th>\n",
       "      <th>geometry</th>\n",
       "    </tr>\n",
       "  </thead>\n",
       "  <tbody>\n",
       "    <tr>\n",
       "      <th>0</th>\n",
       "      <td>06037137504</td>\n",
       "      <td>229.0</td>\n",
       "      <td>POLYGON ((-118.58119 34.14318, -118.58099 34.1...</td>\n",
       "    </tr>\n",
       "    <tr>\n",
       "      <th>1</th>\n",
       "      <td>06037138000</td>\n",
       "      <td>404.0</td>\n",
       "      <td>POLYGON ((-118.60573 34.14585, -118.60561 34.1...</td>\n",
       "    </tr>\n",
       "    <tr>\n",
       "      <th>2</th>\n",
       "      <td>06037139200</td>\n",
       "      <td>625.0</td>\n",
       "      <td>POLYGON ((-118.53082 34.18024, -118.52952 34.1...</td>\n",
       "    </tr>\n",
       "    <tr>\n",
       "      <th>3</th>\n",
       "      <td>06067002300</td>\n",
       "      <td>259.0</td>\n",
       "      <td>POLYGON ((-121.50218 38.55643, -121.50184 38.5...</td>\n",
       "    </tr>\n",
       "    <tr>\n",
       "      <th>4</th>\n",
       "      <td>06067002400</td>\n",
       "      <td>452.0</td>\n",
       "      <td>POLYGON ((-121.50970 38.54070, -121.50960 38.5...</td>\n",
       "    </tr>\n",
       "  </tbody>\n",
       "</table>\n",
       "</div>"
      ],
      "text/plain": [
       "        GEOID1  total_mf_10_19  \\\n",
       "0  06037137504           229.0   \n",
       "1  06037138000           404.0   \n",
       "2  06037139200           625.0   \n",
       "3  06067002300           259.0   \n",
       "4  06067002400           452.0   \n",
       "\n",
       "                                            geometry  \n",
       "0  POLYGON ((-118.58119 34.14318, -118.58099 34.1...  \n",
       "1  POLYGON ((-118.60573 34.14585, -118.60561 34.1...  \n",
       "2  POLYGON ((-118.53082 34.18024, -118.52952 34.1...  \n",
       "3  POLYGON ((-121.50218 38.55643, -121.50184 38.5...  \n",
       "4  POLYGON ((-121.50970 38.54070, -121.50960 38.5...  "
      ]
     },
     "execution_count": 35,
     "metadata": {},
     "output_type": "execute_result"
    }
   ],
   "source": [
    "demographic.head()"
   ]
  },
  {
   "cell_type": "code",
   "execution_count": 36,
   "id": "ee2cc034",
   "metadata": {},
   "outputs": [],
   "source": [
    "demographic['GEOID1'] = demographic['GEOID1'].astype(str).str[:5]"
   ]
  },
  {
   "cell_type": "code",
   "execution_count": 37,
   "id": "9b6cabfa",
   "metadata": {},
   "outputs": [
    {
     "data": {
      "text/plain": [
       "0       06037\n",
       "1       06037\n",
       "2       06037\n",
       "3       06037\n",
       "4       06037\n",
       "        ...  \n",
       "8052    06115\n",
       "8053    06115\n",
       "8054    06115\n",
       "8055    06115\n",
       "8056    06115\n",
       "Name: GEOID, Length: 8057, dtype: object"
      ]
     },
     "execution_count": 37,
     "metadata": {},
     "output_type": "execute_result"
    }
   ],
   "source": [
    "income.GEOID.astype('object')"
   ]
  },
  {
   "cell_type": "code",
   "execution_count": 38,
   "id": "d52cda1a",
   "metadata": {},
   "outputs": [],
   "source": [
    "dmg = demographic.dissolve(by='GEOID1', aggfunc='sum')"
   ]
  },
  {
   "cell_type": "code",
   "execution_count": 39,
   "id": "2882dc11",
   "metadata": {},
   "outputs": [],
   "source": [
    "dmg.crs = \"EPSG:4326\""
   ]
  },
  {
   "cell_type": "code",
   "execution_count": 40,
   "id": "580481ff",
   "metadata": {},
   "outputs": [],
   "source": [
    "dmg = dmg.to_crs(county_income.crs)"
   ]
  },
  {
   "cell_type": "code",
   "execution_count": 41,
   "id": "bcc2995a",
   "metadata": {},
   "outputs": [
    {
     "data": {
      "text/plain": [
       "<Geographic 2D CRS: EPSG:4326>\n",
       "Name: WGS 84\n",
       "Axis Info [ellipsoidal]:\n",
       "- Lat[north]: Geodetic latitude (degree)\n",
       "- Lon[east]: Geodetic longitude (degree)\n",
       "Area of Use:\n",
       "- name: World\n",
       "- bounds: (-180.0, -90.0, 180.0, 90.0)\n",
       "Datum: World Geodetic System 1984\n",
       "- Ellipsoid: WGS 84\n",
       "- Prime Meridian: Greenwich"
      ]
     },
     "execution_count": 41,
     "metadata": {},
     "output_type": "execute_result"
    }
   ],
   "source": [
    "dmg.crs"
   ]
  },
  {
   "cell_type": "code",
   "execution_count": 42,
   "id": "094a750b",
   "metadata": {},
   "outputs": [
    {
     "data": {
      "text/html": [
       "<div>\n",
       "<style scoped>\n",
       "    .dataframe tbody tr th:only-of-type {\n",
       "        vertical-align: middle;\n",
       "    }\n",
       "\n",
       "    .dataframe tbody tr th {\n",
       "        vertical-align: top;\n",
       "    }\n",
       "\n",
       "    .dataframe thead th {\n",
       "        text-align: right;\n",
       "    }\n",
       "</style>\n",
       "<table border=\"1\" class=\"dataframe\">\n",
       "  <thead>\n",
       "    <tr style=\"text-align: right;\">\n",
       "      <th></th>\n",
       "      <th>geometry</th>\n",
       "      <th>total_mf_10_19</th>\n",
       "    </tr>\n",
       "    <tr>\n",
       "      <th>GEOID1</th>\n",
       "      <th></th>\n",
       "      <th></th>\n",
       "    </tr>\n",
       "  </thead>\n",
       "  <tbody>\n",
       "    <tr>\n",
       "      <th>06001</th>\n",
       "      <td>POLYGON ((-121.90392 37.46454, -121.90407 37.4...</td>\n",
       "      <td>189657.0</td>\n",
       "    </tr>\n",
       "    <tr>\n",
       "      <th>06003</th>\n",
       "      <td>POLYGON ((-120.07333 38.70109, -120.07324 38.7...</td>\n",
       "      <td>193.0</td>\n",
       "    </tr>\n",
       "    <tr>\n",
       "      <th>06005</th>\n",
       "      <td>POLYGON ((-120.54130 38.42291, -120.54181 38.4...</td>\n",
       "      <td>3705.0</td>\n",
       "    </tr>\n",
       "    <tr>\n",
       "      <th>06007</th>\n",
       "      <td>POLYGON ((-121.90870 39.30799, -121.90834 39.3...</td>\n",
       "      <td>27187.0</td>\n",
       "    </tr>\n",
       "    <tr>\n",
       "      <th>06009</th>\n",
       "      <td>POLYGON ((-120.37620 38.14265, -120.37616 38.1...</td>\n",
       "      <td>4245.0</td>\n",
       "    </tr>\n",
       "  </tbody>\n",
       "</table>\n",
       "</div>"
      ],
      "text/plain": [
       "                                                 geometry  total_mf_10_19\n",
       "GEOID1                                                                   \n",
       "06001   POLYGON ((-121.90392 37.46454, -121.90407 37.4...        189657.0\n",
       "06003   POLYGON ((-120.07333 38.70109, -120.07324 38.7...           193.0\n",
       "06005   POLYGON ((-120.54130 38.42291, -120.54181 38.4...          3705.0\n",
       "06007   POLYGON ((-121.90870 39.30799, -121.90834 39.3...         27187.0\n",
       "06009   POLYGON ((-120.37620 38.14265, -120.37616 38.1...          4245.0"
      ]
     },
     "execution_count": 42,
     "metadata": {},
     "output_type": "execute_result"
    }
   ],
   "source": [
    "dmg.head()"
   ]
  },
  {
   "cell_type": "code",
   "execution_count": 43,
   "id": "4c48055b",
   "metadata": {},
   "outputs": [],
   "source": [
    "dmg_sch = gpd.sjoin(dmg, sch, how='inner', op='intersects')"
   ]
  },
  {
   "cell_type": "code",
   "execution_count": 44,
   "id": "e849d01f",
   "metadata": {},
   "outputs": [
    {
     "data": {
      "text/html": [
       "<div>\n",
       "<style scoped>\n",
       "    .dataframe tbody tr th:only-of-type {\n",
       "        vertical-align: middle;\n",
       "    }\n",
       "\n",
       "    .dataframe tbody tr th {\n",
       "        vertical-align: top;\n",
       "    }\n",
       "\n",
       "    .dataframe thead th {\n",
       "        text-align: right;\n",
       "    }\n",
       "</style>\n",
       "<table border=\"1\" class=\"dataframe\">\n",
       "  <thead>\n",
       "    <tr style=\"text-align: right;\">\n",
       "      <th></th>\n",
       "      <th>geometry</th>\n",
       "      <th>total_mf_10_19</th>\n",
       "      <th>index_right</th>\n",
       "      <th>geoid</th>\n",
       "      <th>fips</th>\n",
       "      <th>name</th>\n",
       "      <th>state</th>\n",
       "      <th>CountyName</th>\n",
       "      <th>ChronicAbsenteeismCount</th>\n",
       "      <th>CumulativeEnrollment</th>\n",
       "      <th>absentrate</th>\n",
       "      <th>Dropout (Rate)</th>\n",
       "      <th>Regular HS Diploma Graduates (Rate)</th>\n",
       "    </tr>\n",
       "    <tr>\n",
       "      <th>GEOID1</th>\n",
       "      <th></th>\n",
       "      <th></th>\n",
       "      <th></th>\n",
       "      <th></th>\n",
       "      <th></th>\n",
       "      <th></th>\n",
       "      <th></th>\n",
       "      <th></th>\n",
       "      <th></th>\n",
       "      <th></th>\n",
       "      <th></th>\n",
       "      <th></th>\n",
       "      <th></th>\n",
       "    </tr>\n",
       "  </thead>\n",
       "  <tbody>\n",
       "    <tr>\n",
       "      <th>06001</th>\n",
       "      <td>POLYGON ((-121.90392 37.46454, -121.90407 37.4...</td>\n",
       "      <td>189657.0</td>\n",
       "      <td>65</td>\n",
       "      <td>06085</td>\n",
       "      <td>06085</td>\n",
       "      <td>Santa Clara</td>\n",
       "      <td>CA</td>\n",
       "      <td>Santa Clara</td>\n",
       "      <td>246931.0</td>\n",
       "      <td>2651967.0</td>\n",
       "      <td>0.093112</td>\n",
       "      <td>58946.3</td>\n",
       "      <td>272796.9</td>\n",
       "    </tr>\n",
       "    <tr>\n",
       "      <th>06047</th>\n",
       "      <td>POLYGON ((-121.24865 37.03368, -121.24807 37.0...</td>\n",
       "      <td>45837.0</td>\n",
       "      <td>65</td>\n",
       "      <td>06085</td>\n",
       "      <td>06085</td>\n",
       "      <td>Santa Clara</td>\n",
       "      <td>CA</td>\n",
       "      <td>Santa Clara</td>\n",
       "      <td>246931.0</td>\n",
       "      <td>2651967.0</td>\n",
       "      <td>0.093112</td>\n",
       "      <td>58946.3</td>\n",
       "      <td>272796.9</td>\n",
       "    </tr>\n",
       "    <tr>\n",
       "      <th>06069</th>\n",
       "      <td>POLYGON ((-121.48438 36.71334, -121.48420 36.7...</td>\n",
       "      <td>9147.0</td>\n",
       "      <td>65</td>\n",
       "      <td>06085</td>\n",
       "      <td>06085</td>\n",
       "      <td>Santa Clara</td>\n",
       "      <td>CA</td>\n",
       "      <td>Santa Clara</td>\n",
       "      <td>246931.0</td>\n",
       "      <td>2651967.0</td>\n",
       "      <td>0.093112</td>\n",
       "      <td>58946.3</td>\n",
       "      <td>272796.9</td>\n",
       "    </tr>\n",
       "    <tr>\n",
       "      <th>06081</th>\n",
       "      <td>POLYGON ((-122.16269 37.45384, -122.16272 37.4...</td>\n",
       "      <td>84632.0</td>\n",
       "      <td>65</td>\n",
       "      <td>06085</td>\n",
       "      <td>06085</td>\n",
       "      <td>Santa Clara</td>\n",
       "      <td>CA</td>\n",
       "      <td>Santa Clara</td>\n",
       "      <td>246931.0</td>\n",
       "      <td>2651967.0</td>\n",
       "      <td>0.093112</td>\n",
       "      <td>58946.3</td>\n",
       "      <td>272796.9</td>\n",
       "    </tr>\n",
       "    <tr>\n",
       "      <th>06085</th>\n",
       "      <td>POLYGON ((-121.47115 36.97797, -121.47121 36.9...</td>\n",
       "      <td>238587.0</td>\n",
       "      <td>65</td>\n",
       "      <td>06085</td>\n",
       "      <td>06085</td>\n",
       "      <td>Santa Clara</td>\n",
       "      <td>CA</td>\n",
       "      <td>Santa Clara</td>\n",
       "      <td>246931.0</td>\n",
       "      <td>2651967.0</td>\n",
       "      <td>0.093112</td>\n",
       "      <td>58946.3</td>\n",
       "      <td>272796.9</td>\n",
       "    </tr>\n",
       "  </tbody>\n",
       "</table>\n",
       "</div>"
      ],
      "text/plain": [
       "                                                 geometry  total_mf_10_19  \\\n",
       "GEOID1                                                                      \n",
       "06001   POLYGON ((-121.90392 37.46454, -121.90407 37.4...        189657.0   \n",
       "06047   POLYGON ((-121.24865 37.03368, -121.24807 37.0...         45837.0   \n",
       "06069   POLYGON ((-121.48438 36.71334, -121.48420 36.7...          9147.0   \n",
       "06081   POLYGON ((-122.16269 37.45384, -122.16272 37.4...         84632.0   \n",
       "06085   POLYGON ((-121.47115 36.97797, -121.47121 36.9...        238587.0   \n",
       "\n",
       "        index_right  geoid   fips         name state   CountyName  \\\n",
       "GEOID1                                                              \n",
       "06001            65  06085  06085  Santa Clara    CA  Santa Clara   \n",
       "06047            65  06085  06085  Santa Clara    CA  Santa Clara   \n",
       "06069            65  06085  06085  Santa Clara    CA  Santa Clara   \n",
       "06081            65  06085  06085  Santa Clara    CA  Santa Clara   \n",
       "06085            65  06085  06085  Santa Clara    CA  Santa Clara   \n",
       "\n",
       "        ChronicAbsenteeismCount  CumulativeEnrollment  absentrate  \\\n",
       "GEOID1                                                              \n",
       "06001                  246931.0             2651967.0    0.093112   \n",
       "06047                  246931.0             2651967.0    0.093112   \n",
       "06069                  246931.0             2651967.0    0.093112   \n",
       "06081                  246931.0             2651967.0    0.093112   \n",
       "06085                  246931.0             2651967.0    0.093112   \n",
       "\n",
       "        Dropout (Rate)  Regular HS Diploma Graduates (Rate)  \n",
       "GEOID1                                                       \n",
       "06001          58946.3                             272796.9  \n",
       "06047          58946.3                             272796.9  \n",
       "06069          58946.3                             272796.9  \n",
       "06081          58946.3                             272796.9  \n",
       "06085          58946.3                             272796.9  "
      ]
     },
     "execution_count": 44,
     "metadata": {},
     "output_type": "execute_result"
    }
   ],
   "source": [
    "dmg_sch.head()"
   ]
  },
  {
   "cell_type": "code",
   "execution_count": 45,
   "id": "9ced1ded",
   "metadata": {},
   "outputs": [],
   "source": [
    "dmg_sch.to_csv('school-demographic.csv')"
   ]
  },
  {
   "cell_type": "code",
   "execution_count": 46,
   "id": "ca01d2c9",
   "metadata": {},
   "outputs": [
    {
     "data": {
      "text/plain": [
       "(340, 13)"
      ]
     },
     "execution_count": 46,
     "metadata": {},
     "output_type": "execute_result"
    }
   ],
   "source": [
    "dmg_sch.shape"
   ]
  },
  {
   "cell_type": "code",
   "execution_count": 48,
   "id": "6f5ecc9a",
   "metadata": {},
   "outputs": [],
   "source": [
    "import matplotlib.pyplot as plt"
   ]
  },
  {
   "cell_type": "code",
   "execution_count": 66,
   "id": "2c1829e1",
   "metadata": {},
   "outputs": [
    {
     "data": {
      "image/png": "[encoded data removed]",
      "text/plain": [
       "<Figure size 3888x1440 with 1 Axes>"
      ]
     },
     "metadata": {
      "needs_background": "light"
     },
     "output_type": "display_data"
    }
   ],
   "source": [
    "countyname = sch['CountyName'].head(84)\n",
    "dropout = sch['Dropout (Rate)'].head(84)\n",
    " \n",
    "# Figure Size\n",
    "fig = plt.figure(figsize =(54, 20))\n",
    "plt.bar(countyname[0:54],dropout[0:54])  \n",
    "plt.show()"
   ]
  },
  {
   "cell_type": "code",
   "execution_count": 318,
   "id": "e6a23d7e",
   "metadata": {},
   "outputs": [
    {
     "data": {
      "text/plain": [
       "<AxesSubplot:xlabel='total_mf_10_19', ylabel='absentrate'>"
      ]
     },
     "execution_count": 318,
     "metadata": {},
     "output_type": "execute_result"
    },
    {
     "data": {
      "image/png": "[encoded data removed]",
      "text/plain": [
       "<Figure size 432x288 with 1 Axes>"
      ]
     },
     "metadata": {
      "needs_background": "light"
     },
     "output_type": "display_data"
    }
   ],
   "source": [
    "sns.scatterplot(data=dmg_income, y=\"absentrate\", x=\"total_mf_10_19\")"
   ]
  },
  {
   "cell_type": "code",
   "execution_count": null,
   "id": "ba5b1927",
   "metadata": {},
   "outputs": [],
   "source": []
  }
 ],
 "metadata": {
  "kernelspec": {
   "display_name": "Python 3",
   "language": "python",
   "name": "python3"
  },
  "language_info": {
   "codemirror_mode": {
    "name": "ipython",
    "version": 3
   },
   "file_extension": ".py",
   "mimetype": "text/x-python",
   "name": "python",
   "nbconvert_exporter": "python",
   "pygments_lexer": "ipython3",
   "version": "3.7.3"
  }
 },
 "nbformat": 4,
 "nbformat_minor": 5
}
