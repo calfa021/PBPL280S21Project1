{
 "cells": [
  {
   "cell_type": "code",
   "execution_count": 1,
   "id": "538e62d1",
   "metadata": {},
   "outputs": [],
   "source": [
    "import pandas"
   ]
  },
  {
   "cell_type": "code",
   "execution_count": 2,
   "id": "79729315",
   "metadata": {},
   "outputs": [],
   "source": [
    "import pandas as pd "
   ]
  },
  {
   "cell_type": "code",
   "execution_count": 3,
   "id": "a67ead75",
   "metadata": {},
   "outputs": [],
   "source": [
    "import geopandas as gpd"
   ]
  },
  {
   "cell_type": "code",
   "execution_count": 4,
   "id": "51e14e6f",
   "metadata": {},
   "outputs": [],
   "source": [
    "import matplotlib.pyplot as plt"
   ]
  },
  {
   "cell_type": "code",
   "execution_count": 5,
   "id": "43e2bf64",
   "metadata": {},
   "outputs": [],
   "source": [
    "import contextily as ctx"
   ]
  },
  {
   "cell_type": "code",
   "execution_count": 8,
   "id": "7b69ac70",
   "metadata": {},
   "outputs": [],
   "source": [
    "from geopandas_view import view"
   ]
  },
  {
   "cell_type": "code",
   "execution_count": 9,
   "id": "32fab465",
   "metadata": {},
   "outputs": [],
   "source": [
    "import geopandas"
   ]
  },
  {
   "cell_type": "code",
   "execution_count": 10,
   "id": "d3e87ed7",
   "metadata": {},
   "outputs": [
    {
     "name": "stderr",
     "output_type": "stream",
     "text": [
      "100%|██████████| 3.23G/3.23G [00:22<00:00, 146MB/s]   \n"
     ]
    }
   ],
   "source": [
    "import quilt3\n",
    "b = quilt3.Bucket(\"s3://spatial-ucr\")\n",
    "# list files\n",
    "b.ls(\"census/demographic_profile/2018/\")\n",
    "# download\n",
    "b.fetch(\"census/demographic_profile/2018/\", \"./2018/\")"
   ]
  },
  {
   "cell_type": "code",
   "execution_count": 13,
   "id": "2396ad07",
   "metadata": {},
   "outputs": [
    {
     "name": "stderr",
     "output_type": "stream",
     "text": [
      "100%|██████████| 23.2M/23.2M [00:03<00:00, 6.76MB/s]\n"
     ]
    }
   ],
   "source": [
    "b.fetch(\"census/demographic_profile/2018/acs_2018_X01_AGE_AND_SEX_tract.parquet\", \"./acs_2018_X01_AGE_AND_SEX_tract.parquet\")"
   ]
  },
  {
   "cell_type": "code",
   "execution_count": 29,
   "id": "284c2f2a",
   "metadata": {},
   "outputs": [],
   "source": [
    "tracts = geopandas.read_parquet()"
   ]
  },
  {
   "cell_type": "code",
   "execution_count": null,
   "id": "6ac741de",
   "metadata": {},
   "outputs": [],
   "source": []
  }
 ],
 "metadata": {
  "kernelspec": {
   "display_name": "Python 3",
   "language": "python",
   "name": "python3"
  },
  "language_info": {
   "codemirror_mode": {
    "name": "ipython",
    "version": 3
   },
   "file_extension": ".py",
   "mimetype": "text/x-python",
   "name": "python",
   "nbconvert_exporter": "python",
   "pygments_lexer": "ipython3",
   "version": "3.7.3"
  }
 },
 "nbformat": 4,
 "nbformat_minor": 5
}
