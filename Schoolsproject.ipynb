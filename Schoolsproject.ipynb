{
 "cells": [
  {
   "cell_type": "code",
   "execution_count": 1,
   "id": "c5c3974b",
   "metadata": {},
   "outputs": [],
   "source": [
    "import quilt3\n",
    "b = quilt3.Bucket(\"s3://spatial-ucr\")"
   ]
  },
  {
   "cell_type": "code",
   "execution_count": 2,
   "id": "23d4cf5f",
   "metadata": {},
   "outputs": [
    {
     "data": {
      "text/plain": [
       "([],\n",
       " [{'ETag': '\"ec5de9f291f6b907d3f2a8ef6ba2a6c6\"',\n",
       "   'Size': 64,\n",
       "   'StorageClass': 'STANDARD',\n",
       "   'Key': '.quilt/named_packages/nces/schools/1616176289',\n",
       "   'VersionId': '1KKzSIi59WhOyTiq6.UDTuy_kKpbcWkR',\n",
       "   'IsLatest': True,\n",
       "   'LastModified': datetime.datetime(2021, 3, 19, 17, 51, 32, tzinfo=tzlocal()),\n",
       "   'Owner': {'DisplayName': 'aneesh+openucr',\n",
       "    'ID': '8e3421f4b6da6d660b2795bce05d12d915b3b8f40c518004add9b1ef80c7a897'}},\n",
       "  {'ETag': '\"7382dff450a85be9935a87a3b56e75f2\"',\n",
       "   'Size': 64,\n",
       "   'StorageClass': 'STANDARD',\n",
       "   'Key': '.quilt/named_packages/nces/schools/1616563086',\n",
       "   'VersionId': 'a8ztNdodi8zkE3lcFt1bPNksCPEIjOED',\n",
       "   'IsLatest': True,\n",
       "   'LastModified': datetime.datetime(2021, 3, 24, 5, 18, 7, tzinfo=tzlocal()),\n",
       "   'Owner': {'DisplayName': 'aneesh+openucr',\n",
       "    'ID': '8e3421f4b6da6d660b2795bce05d12d915b3b8f40c518004add9b1ef80c7a897'}},\n",
       "  {'ETag': '\"7382dff450a85be9935a87a3b56e75f2\"',\n",
       "   'Size': 64,\n",
       "   'StorageClass': 'STANDARD',\n",
       "   'Key': '.quilt/named_packages/nces/schools/latest',\n",
       "   'VersionId': 'X9U8AMFassvzypbSsDh2mO8HN20z6qlv',\n",
       "   'IsLatest': True,\n",
       "   'LastModified': datetime.datetime(2021, 3, 24, 5, 18, 8, tzinfo=tzlocal()),\n",
       "   'Owner': {'DisplayName': 'aneesh+openucr',\n",
       "    'ID': '8e3421f4b6da6d660b2795bce05d12d915b3b8f40c518004add9b1ef80c7a897'}},\n",
       "  {'ETag': '\"ec5de9f291f6b907d3f2a8ef6ba2a6c6\"',\n",
       "   'Size': 64,\n",
       "   'StorageClass': 'STANDARD',\n",
       "   'Key': '.quilt/named_packages/nces/schools/latest',\n",
       "   'VersionId': 'p4GpGnBvKqI7QpLRumrQGxqT5A.WOT_5',\n",
       "   'IsLatest': False,\n",
       "   'LastModified': datetime.datetime(2021, 3, 19, 17, 51, 33, tzinfo=tzlocal()),\n",
       "   'Owner': {'DisplayName': 'aneesh+openucr',\n",
       "    'ID': '8e3421f4b6da6d660b2795bce05d12d915b3b8f40c518004add9b1ef80c7a897'}}],\n",
       " [])"
      ]
     },
     "execution_count": 2,
     "metadata": {},
     "output_type": "execute_result"
    }
   ],
   "source": [
    "b.ls(\".quilt/named_packages/nces/schools/\")"
   ]
  },
  {
   "cell_type": "code",
   "execution_count": 3,
   "id": "d5d9d5ca",
   "metadata": {},
   "outputs": [
    {
     "name": "stderr",
     "output_type": "stream",
     "text": [
      "100%|██████████| 8.03M/8.03M [00:03<00:00, 2.57MB/s]\n"
     ]
    }
   ],
   "source": [
    "b.fetch(\"nces/schools/schools_1920.parquet\", \"./schools_1920.parquet\")"
   ]
  },
  {
   "cell_type": "code",
   "execution_count": 4,
   "id": "6f59b7b6",
   "metadata": {},
   "outputs": [],
   "source": [
    "import pandas"
   ]
  },
  {
   "cell_type": "code",
   "execution_count": 5,
   "id": "99ee0079",
   "metadata": {},
   "outputs": [],
   "source": [
    "import pandas as pd"
   ]
  },
  {
   "cell_type": "code",
   "execution_count": 6,
   "id": "387ccbc9",
   "metadata": {},
   "outputs": [],
   "source": [
    "import geopandas as gpd\n",
    "import matplotlib.pyplot as plt\n",
    "import contextily as ctx\n",
    "from geopandas_view import view"
   ]
  },
  {
   "cell_type": "code",
   "execution_count": 7,
   "id": "b406a343",
   "metadata": {},
   "outputs": [],
   "source": [
    "schools_data = gpd.read_parquet(\"schools_1920.parquet\")"
   ]
  },
  {
   "cell_type": "code",
   "execution_count": 8,
   "id": "0ac89e5e",
   "metadata": {},
   "outputs": [
    {
     "data": {
      "text/html": [
       "<div>\n",
       "<style scoped>\n",
       "    .dataframe tbody tr th:only-of-type {\n",
       "        vertical-align: middle;\n",
       "    }\n",
       "\n",
       "    .dataframe tbody tr th {\n",
       "        vertical-align: top;\n",
       "    }\n",
       "\n",
       "    .dataframe thead th {\n",
       "        text-align: right;\n",
       "    }\n",
       "</style>\n",
       "<table border=\"1\" class=\"dataframe\">\n",
       "  <thead>\n",
       "    <tr style=\"text-align: right;\">\n",
       "      <th></th>\n",
       "      <th>NCESSCH</th>\n",
       "      <th>LEAID</th>\n",
       "      <th>NAME</th>\n",
       "      <th>OPSTFIPS</th>\n",
       "      <th>STREET</th>\n",
       "      <th>CITY</th>\n",
       "      <th>STATE</th>\n",
       "      <th>ZIP</th>\n",
       "      <th>STFIP</th>\n",
       "      <th>CNTY</th>\n",
       "      <th>...</th>\n",
       "      <th>CBSATYPE</th>\n",
       "      <th>CSA</th>\n",
       "      <th>NMCSA</th>\n",
       "      <th>NECTA</th>\n",
       "      <th>NMNECTA</th>\n",
       "      <th>CD</th>\n",
       "      <th>SLDL</th>\n",
       "      <th>SLDU</th>\n",
       "      <th>SCHOOLYEAR</th>\n",
       "      <th>geometry</th>\n",
       "    </tr>\n",
       "  </thead>\n",
       "  <tbody>\n",
       "    <tr>\n",
       "      <th>0</th>\n",
       "      <td>010000500870</td>\n",
       "      <td>0100005</td>\n",
       "      <td>Albertville Middle School</td>\n",
       "      <td>01</td>\n",
       "      <td>600 E Alabama Ave</td>\n",
       "      <td>Albertville</td>\n",
       "      <td>AL</td>\n",
       "      <td>35950</td>\n",
       "      <td>01</td>\n",
       "      <td>01095</td>\n",
       "      <td>...</td>\n",
       "      <td>2</td>\n",
       "      <td>N</td>\n",
       "      <td>N</td>\n",
       "      <td>N</td>\n",
       "      <td>N</td>\n",
       "      <td>0104</td>\n",
       "      <td>01026</td>\n",
       "      <td>01009</td>\n",
       "      <td>2019-2020</td>\n",
       "      <td>POINT (-86.20620 34.26020)</td>\n",
       "    </tr>\n",
       "    <tr>\n",
       "      <th>1</th>\n",
       "      <td>010000500871</td>\n",
       "      <td>0100005</td>\n",
       "      <td>Albertville High School</td>\n",
       "      <td>01</td>\n",
       "      <td>402 E McCord Ave</td>\n",
       "      <td>Albertville</td>\n",
       "      <td>AL</td>\n",
       "      <td>35950</td>\n",
       "      <td>01</td>\n",
       "      <td>01095</td>\n",
       "      <td>...</td>\n",
       "      <td>2</td>\n",
       "      <td>N</td>\n",
       "      <td>N</td>\n",
       "      <td>N</td>\n",
       "      <td>N</td>\n",
       "      <td>0104</td>\n",
       "      <td>01026</td>\n",
       "      <td>01009</td>\n",
       "      <td>2019-2020</td>\n",
       "      <td>POINT (-86.20490 34.26220)</td>\n",
       "    </tr>\n",
       "    <tr>\n",
       "      <th>2</th>\n",
       "      <td>010000500879</td>\n",
       "      <td>0100005</td>\n",
       "      <td>Evans Elementary School</td>\n",
       "      <td>01</td>\n",
       "      <td>901 W McKinney Ave</td>\n",
       "      <td>Albertville</td>\n",
       "      <td>AL</td>\n",
       "      <td>35950</td>\n",
       "      <td>01</td>\n",
       "      <td>01095</td>\n",
       "      <td>...</td>\n",
       "      <td>2</td>\n",
       "      <td>N</td>\n",
       "      <td>N</td>\n",
       "      <td>N</td>\n",
       "      <td>N</td>\n",
       "      <td>0104</td>\n",
       "      <td>01026</td>\n",
       "      <td>01009</td>\n",
       "      <td>2019-2020</td>\n",
       "      <td>POINT (-86.22010 34.27330)</td>\n",
       "    </tr>\n",
       "    <tr>\n",
       "      <th>3</th>\n",
       "      <td>010000500889</td>\n",
       "      <td>0100005</td>\n",
       "      <td>Albertville Elementary School</td>\n",
       "      <td>01</td>\n",
       "      <td>145 West End Drive</td>\n",
       "      <td>Albertville</td>\n",
       "      <td>AL</td>\n",
       "      <td>35950</td>\n",
       "      <td>01</td>\n",
       "      <td>01095</td>\n",
       "      <td>...</td>\n",
       "      <td>2</td>\n",
       "      <td>N</td>\n",
       "      <td>N</td>\n",
       "      <td>N</td>\n",
       "      <td>N</td>\n",
       "      <td>0104</td>\n",
       "      <td>01026</td>\n",
       "      <td>01009</td>\n",
       "      <td>2019-2020</td>\n",
       "      <td>POINT (-86.22181 34.25270)</td>\n",
       "    </tr>\n",
       "    <tr>\n",
       "      <th>4</th>\n",
       "      <td>010000501616</td>\n",
       "      <td>0100005</td>\n",
       "      <td>Albertville Kindergarten and PreK</td>\n",
       "      <td>01</td>\n",
       "      <td>257 Country Club Rd</td>\n",
       "      <td>Albertville</td>\n",
       "      <td>AL</td>\n",
       "      <td>35951</td>\n",
       "      <td>01</td>\n",
       "      <td>01095</td>\n",
       "      <td>...</td>\n",
       "      <td>2</td>\n",
       "      <td>N</td>\n",
       "      <td>N</td>\n",
       "      <td>N</td>\n",
       "      <td>N</td>\n",
       "      <td>0104</td>\n",
       "      <td>01026</td>\n",
       "      <td>01009</td>\n",
       "      <td>2019-2020</td>\n",
       "      <td>POINT (-86.19330 34.28980)</td>\n",
       "    </tr>\n",
       "  </tbody>\n",
       "</table>\n",
       "<p>5 rows × 26 columns</p>\n",
       "</div>"
      ],
      "text/plain": [
       "        NCESSCH    LEAID                               NAME OPSTFIPS  \\\n",
       "0  010000500870  0100005          Albertville Middle School       01   \n",
       "1  010000500871  0100005            Albertville High School       01   \n",
       "2  010000500879  0100005            Evans Elementary School       01   \n",
       "3  010000500889  0100005      Albertville Elementary School       01   \n",
       "4  010000501616  0100005  Albertville Kindergarten and PreK       01   \n",
       "\n",
       "                STREET         CITY STATE    ZIP STFIP   CNTY  ... CBSATYPE  \\\n",
       "0    600 E Alabama Ave  Albertville    AL  35950    01  01095  ...        2   \n",
       "1     402 E McCord Ave  Albertville    AL  35950    01  01095  ...        2   \n",
       "2   901 W McKinney Ave  Albertville    AL  35950    01  01095  ...        2   \n",
       "3   145 West End Drive  Albertville    AL  35950    01  01095  ...        2   \n",
       "4  257 Country Club Rd  Albertville    AL  35951    01  01095  ...        2   \n",
       "\n",
       "  CSA  NMCSA  NECTA NMNECTA    CD   SLDL   SLDU SCHOOLYEAR  \\\n",
       "0   N      N      N       N  0104  01026  01009  2019-2020   \n",
       "1   N      N      N       N  0104  01026  01009  2019-2020   \n",
       "2   N      N      N       N  0104  01026  01009  2019-2020   \n",
       "3   N      N      N       N  0104  01026  01009  2019-2020   \n",
       "4   N      N      N       N  0104  01026  01009  2019-2020   \n",
       "\n",
       "                     geometry  \n",
       "0  POINT (-86.20620 34.26020)  \n",
       "1  POINT (-86.20490 34.26220)  \n",
       "2  POINT (-86.22010 34.27330)  \n",
       "3  POINT (-86.22181 34.25270)  \n",
       "4  POINT (-86.19330 34.28980)  \n",
       "\n",
       "[5 rows x 26 columns]"
      ]
     },
     "execution_count": 8,
     "metadata": {},
     "output_type": "execute_result"
    }
   ],
   "source": [
    "schools_data.head()"
   ]
  },
  {
   "cell_type": "code",
   "execution_count": 9,
   "id": "cbfdd4ed",
   "metadata": {},
   "outputs": [
    {
     "data": {
      "text/plain": [
       "Index(['NCESSCH', 'LEAID', 'NAME', 'OPSTFIPS', 'STREET', 'CITY', 'STATE',\n",
       "       'ZIP', 'STFIP', 'CNTY', 'NMCNTY', 'LOCALE', 'LAT', 'LON', 'CBSA',\n",
       "       'NMCBSA', 'CBSATYPE', 'CSA', 'NMCSA', 'NECTA', 'NMNECTA', 'CD', 'SLDL',\n",
       "       'SLDU', 'SCHOOLYEAR', 'geometry'],\n",
       "      dtype='object')"
      ]
     },
     "execution_count": 9,
     "metadata": {},
     "output_type": "execute_result"
    }
   ],
   "source": [
    "schools_data.columns"
   ]
  },
  {
   "cell_type": "code",
   "execution_count": 10,
   "id": "ca0176c1",
   "metadata": {},
   "outputs": [
    {
     "name": "stderr",
     "output_type": "stream",
     "text": [
      "100%|██████████| 241M/241M [00:04<00:00, 53.9MB/s] \n"
     ]
    }
   ],
   "source": [
    "b.fetch(\"nces/sabs/sabs_1516.parquet\", \"./sabs_1516.parquet\")"
   ]
  },
  {
   "cell_type": "code",
   "execution_count": 11,
   "id": "98c7e5a2",
   "metadata": {},
   "outputs": [],
   "source": [
    "import geopandas"
   ]
  },
  {
   "cell_type": "code",
   "execution_count": 12,
   "id": "f6defaad",
   "metadata": {},
   "outputs": [],
   "source": [
    "attendance_data = geopandas.read_parquet(\"./sabs_1516.parquet\")"
   ]
  },
  {
   "cell_type": "code",
   "execution_count": 13,
   "id": "8d863efa",
   "metadata": {},
   "outputs": [
    {
     "data": {
      "text/html": [
       "<div>\n",
       "<style scoped>\n",
       "    .dataframe tbody tr th:only-of-type {\n",
       "        vertical-align: middle;\n",
       "    }\n",
       "\n",
       "    .dataframe tbody tr th {\n",
       "        vertical-align: top;\n",
       "    }\n",
       "\n",
       "    .dataframe thead th {\n",
       "        text-align: right;\n",
       "    }\n",
       "</style>\n",
       "<table border=\"1\" class=\"dataframe\">\n",
       "  <thead>\n",
       "    <tr style=\"text-align: right;\">\n",
       "      <th></th>\n",
       "      <th>SrcName</th>\n",
       "      <th>ncessch</th>\n",
       "      <th>schnam</th>\n",
       "      <th>leaid</th>\n",
       "      <th>gslo</th>\n",
       "      <th>gshi</th>\n",
       "      <th>defacto</th>\n",
       "      <th>stAbbrev</th>\n",
       "      <th>openEnroll</th>\n",
       "      <th>Shape_Leng</th>\n",
       "      <th>Shape_Area</th>\n",
       "      <th>level</th>\n",
       "      <th>MultiBdy</th>\n",
       "      <th>geometry</th>\n",
       "    </tr>\n",
       "  </thead>\n",
       "  <tbody>\n",
       "    <tr>\n",
       "      <th>0</th>\n",
       "      <td>None</td>\n",
       "      <td>010000500870</td>\n",
       "      <td>Ala Avenue Middle Sch</td>\n",
       "      <td>0100005</td>\n",
       "      <td>07</td>\n",
       "      <td>08</td>\n",
       "      <td>1</td>\n",
       "      <td>AL</td>\n",
       "      <td>0</td>\n",
       "      <td>146828.793028</td>\n",
       "      <td>1.012552e+08</td>\n",
       "      <td>2</td>\n",
       "      <td>0</td>\n",
       "      <td>MULTIPOLYGON (((-9601421.827 4062780.032, -960...</td>\n",
       "    </tr>\n",
       "    <tr>\n",
       "      <th>1</th>\n",
       "      <td>None</td>\n",
       "      <td>010000500871</td>\n",
       "      <td>Albertville High Sch</td>\n",
       "      <td>0100005</td>\n",
       "      <td>09</td>\n",
       "      <td>12</td>\n",
       "      <td>1</td>\n",
       "      <td>AL</td>\n",
       "      <td>0</td>\n",
       "      <td>146828.793028</td>\n",
       "      <td>1.012552e+08</td>\n",
       "      <td>3</td>\n",
       "      <td>0</td>\n",
       "      <td>MULTIPOLYGON (((-9601421.827 4062780.032, -960...</td>\n",
       "    </tr>\n",
       "    <tr>\n",
       "      <th>2</th>\n",
       "      <td>None</td>\n",
       "      <td>010000500879</td>\n",
       "      <td>Evans Elem Sch</td>\n",
       "      <td>0100005</td>\n",
       "      <td>05</td>\n",
       "      <td>06</td>\n",
       "      <td>1</td>\n",
       "      <td>AL</td>\n",
       "      <td>0</td>\n",
       "      <td>146828.793028</td>\n",
       "      <td>1.012552e+08</td>\n",
       "      <td>2</td>\n",
       "      <td>0</td>\n",
       "      <td>MULTIPOLYGON (((-9601421.827 4062780.032, -960...</td>\n",
       "    </tr>\n",
       "    <tr>\n",
       "      <th>3</th>\n",
       "      <td>None</td>\n",
       "      <td>010000500889</td>\n",
       "      <td>Albertville Elem Sch</td>\n",
       "      <td>0100005</td>\n",
       "      <td>03</td>\n",
       "      <td>04</td>\n",
       "      <td>1</td>\n",
       "      <td>AL</td>\n",
       "      <td>0</td>\n",
       "      <td>146828.793028</td>\n",
       "      <td>1.012552e+08</td>\n",
       "      <td>1</td>\n",
       "      <td>0</td>\n",
       "      <td>MULTIPOLYGON (((-9601421.827 4062780.032, -960...</td>\n",
       "    </tr>\n",
       "    <tr>\n",
       "      <th>4</th>\n",
       "      <td>None</td>\n",
       "      <td>010000501616</td>\n",
       "      <td>Big Spring Lake Kinderg Sch</td>\n",
       "      <td>0100005</td>\n",
       "      <td>KG</td>\n",
       "      <td>KG</td>\n",
       "      <td>1</td>\n",
       "      <td>AL</td>\n",
       "      <td>0</td>\n",
       "      <td>146828.793028</td>\n",
       "      <td>1.012552e+08</td>\n",
       "      <td>1</td>\n",
       "      <td>0</td>\n",
       "      <td>MULTIPOLYGON (((-9601421.827 4062780.032, -960...</td>\n",
       "    </tr>\n",
       "  </tbody>\n",
       "</table>\n",
       "</div>"
      ],
      "text/plain": [
       "  SrcName       ncessch                       schnam    leaid gslo gshi  \\\n",
       "0    None  010000500870        Ala Avenue Middle Sch  0100005   07   08   \n",
       "1    None  010000500871         Albertville High Sch  0100005   09   12   \n",
       "2    None  010000500879               Evans Elem Sch  0100005   05   06   \n",
       "3    None  010000500889         Albertville Elem Sch  0100005   03   04   \n",
       "4    None  010000501616  Big Spring Lake Kinderg Sch  0100005   KG   KG   \n",
       "\n",
       "  defacto stAbbrev openEnroll     Shape_Leng    Shape_Area level MultiBdy  \\\n",
       "0       1       AL          0  146828.793028  1.012552e+08     2        0   \n",
       "1       1       AL          0  146828.793028  1.012552e+08     3        0   \n",
       "2       1       AL          0  146828.793028  1.012552e+08     2        0   \n",
       "3       1       AL          0  146828.793028  1.012552e+08     1        0   \n",
       "4       1       AL          0  146828.793028  1.012552e+08     1        0   \n",
       "\n",
       "                                            geometry  \n",
       "0  MULTIPOLYGON (((-9601421.827 4062780.032, -960...  \n",
       "1  MULTIPOLYGON (((-9601421.827 4062780.032, -960...  \n",
       "2  MULTIPOLYGON (((-9601421.827 4062780.032, -960...  \n",
       "3  MULTIPOLYGON (((-9601421.827 4062780.032, -960...  \n",
       "4  MULTIPOLYGON (((-9601421.827 4062780.032, -960...  "
      ]
     },
     "execution_count": 13,
     "metadata": {},
     "output_type": "execute_result"
    }
   ],
   "source": [
    "attendance_data.head()"
   ]
  },
  {
   "cell_type": "code",
   "execution_count": 14,
   "id": "ef318bd1",
   "metadata": {},
   "outputs": [],
   "source": [
    "CA=attendance_data[attendance_data.stAbbrev=='CA']"
   ]
  },
  {
   "cell_type": "code",
   "execution_count": 15,
   "id": "294c6a81",
   "metadata": {},
   "outputs": [
    {
     "data": {
      "text/plain": [
       "(7587, 14)"
      ]
     },
     "execution_count": 15,
     "metadata": {},
     "output_type": "execute_result"
    }
   ],
   "source": [
    "CA.shape"
   ]
  },
  {
   "cell_type": "code",
   "execution_count": 16,
   "id": "938cf235",
   "metadata": {},
   "outputs": [
    {
     "data": {
      "text/plain": [
       "<AxesSubplot:>"
      ]
     },
     "execution_count": 16,
     "metadata": {},
     "output_type": "execute_result"
    },
    {
     "data": {
      "image/png": "[encoded data removed]",
      "text/plain": [
       "<Figure size 432x288 with 1 Axes>"
      ]
     },
     "metadata": {
      "needs_background": "light"
     },
     "output_type": "display_data"
    }
   ],
   "source": [
    "CA.plot()"
   ]
  },
  {
   "cell_type": "code",
   "execution_count": 17,
   "id": "8da5b6b1",
   "metadata": {},
   "outputs": [],
   "source": [
    "CA_hs=CA[CA.level=='3']"
   ]
  },
  {
   "cell_type": "code",
   "execution_count": 18,
   "id": "379b4fb2",
   "metadata": {},
   "outputs": [
    {
     "data": {
      "text/plain": [
       "(1037, 14)"
      ]
     },
     "execution_count": 18,
     "metadata": {},
     "output_type": "execute_result"
    }
   ],
   "source": [
    "CA_hs.shape"
   ]
  },
  {
   "cell_type": "code",
   "execution_count": 19,
   "id": "93045450",
   "metadata": {},
   "outputs": [
    {
     "data": {
      "text/plain": [
       "<AxesSubplot:>"
      ]
     },
     "execution_count": 19,
     "metadata": {},
     "output_type": "execute_result"
    },
    {
     "data": {
      "image/png": "[encoded data removed]",
      "text/plain": [
       "<Figure size 432x288 with 1 Axes>"
      ]
     },
     "metadata": {
      "needs_background": "light"
     },
     "output_type": "display_data"
    }
   ],
   "source": [
    "CA_hs.plot()"
   ]
  },
  {
   "cell_type": "code",
   "execution_count": 20,
   "id": "9cc265da",
   "metadata": {},
   "outputs": [],
   "source": [
    "CA_schools=CA_hs.merge(schools_data,left_on='ncessch', right_on='NCESSCH')"
   ]
  },
  {
   "cell_type": "code",
   "execution_count": 21,
   "id": "bcbcca51",
   "metadata": {},
   "outputs": [
    {
     "data": {
      "text/html": [
       "<div>\n",
       "<style scoped>\n",
       "    .dataframe tbody tr th:only-of-type {\n",
       "        vertical-align: middle;\n",
       "    }\n",
       "\n",
       "    .dataframe tbody tr th {\n",
       "        vertical-align: top;\n",
       "    }\n",
       "\n",
       "    .dataframe thead th {\n",
       "        text-align: right;\n",
       "    }\n",
       "</style>\n",
       "<table border=\"1\" class=\"dataframe\">\n",
       "  <thead>\n",
       "    <tr style=\"text-align: right;\">\n",
       "      <th></th>\n",
       "      <th>SrcName</th>\n",
       "      <th>ncessch</th>\n",
       "      <th>schnam</th>\n",
       "      <th>leaid</th>\n",
       "      <th>gslo</th>\n",
       "      <th>gshi</th>\n",
       "      <th>defacto</th>\n",
       "      <th>stAbbrev</th>\n",
       "      <th>openEnroll</th>\n",
       "      <th>Shape_Leng</th>\n",
       "      <th>...</th>\n",
       "      <th>CBSATYPE</th>\n",
       "      <th>CSA</th>\n",
       "      <th>NMCSA</th>\n",
       "      <th>NECTA</th>\n",
       "      <th>NMNECTA</th>\n",
       "      <th>CD</th>\n",
       "      <th>SLDL</th>\n",
       "      <th>SLDU</th>\n",
       "      <th>SCHOOLYEAR</th>\n",
       "      <th>geometry_y</th>\n",
       "    </tr>\n",
       "  </thead>\n",
       "  <tbody>\n",
       "    <tr>\n",
       "      <th>0</th>\n",
       "      <td>Vasquez High</td>\n",
       "      <td>060000103278</td>\n",
       "      <td>Vasquez High</td>\n",
       "      <td>0600001</td>\n",
       "      <td>09</td>\n",
       "      <td>12</td>\n",
       "      <td>0</td>\n",
       "      <td>CA</td>\n",
       "      <td>0</td>\n",
       "      <td>133901.224937</td>\n",
       "      <td>...</td>\n",
       "      <td>1</td>\n",
       "      <td>348</td>\n",
       "      <td>Los Angeles-Long Beach, CA</td>\n",
       "      <td>N</td>\n",
       "      <td>N</td>\n",
       "      <td>0625</td>\n",
       "      <td>06036</td>\n",
       "      <td>06021</td>\n",
       "      <td>2019-2020</td>\n",
       "      <td>POINT (-118.21610 34.49360)</td>\n",
       "    </tr>\n",
       "    <tr>\n",
       "      <th>1</th>\n",
       "      <td>None</td>\n",
       "      <td>060000908779</td>\n",
       "      <td>Cuyama Valley High</td>\n",
       "      <td>0600009</td>\n",
       "      <td>09</td>\n",
       "      <td>12</td>\n",
       "      <td>1</td>\n",
       "      <td>CA</td>\n",
       "      <td>0</td>\n",
       "      <td>376387.196533</td>\n",
       "      <td>...</td>\n",
       "      <td>1</td>\n",
       "      <td>N</td>\n",
       "      <td>N</td>\n",
       "      <td>N</td>\n",
       "      <td>N</td>\n",
       "      <td>0624</td>\n",
       "      <td>06035</td>\n",
       "      <td>06019</td>\n",
       "      <td>2019-2020</td>\n",
       "      <td>POINT (-119.67470 34.94380)</td>\n",
       "    </tr>\n",
       "    <tr>\n",
       "      <th>2</th>\n",
       "      <td>None</td>\n",
       "      <td>060001109065</td>\n",
       "      <td>Herlong High</td>\n",
       "      <td>0600011</td>\n",
       "      <td>09</td>\n",
       "      <td>12</td>\n",
       "      <td>1</td>\n",
       "      <td>CA</td>\n",
       "      <td>0</td>\n",
       "      <td>209495.629862</td>\n",
       "      <td>...</td>\n",
       "      <td>2</td>\n",
       "      <td>N</td>\n",
       "      <td>N</td>\n",
       "      <td>N</td>\n",
       "      <td>N</td>\n",
       "      <td>0601</td>\n",
       "      <td>06001</td>\n",
       "      <td>06001</td>\n",
       "      <td>2019-2020</td>\n",
       "      <td>POINT (-120.14420 40.13910)</td>\n",
       "    </tr>\n",
       "    <tr>\n",
       "      <th>3</th>\n",
       "      <td>Rocklin High</td>\n",
       "      <td>060001302405</td>\n",
       "      <td>Rocklin High</td>\n",
       "      <td>0600013</td>\n",
       "      <td>09</td>\n",
       "      <td>12</td>\n",
       "      <td>0</td>\n",
       "      <td>CA</td>\n",
       "      <td>0</td>\n",
       "      <td>30541.411329</td>\n",
       "      <td>...</td>\n",
       "      <td>1</td>\n",
       "      <td>472</td>\n",
       "      <td>Sacramento-Roseville, CA</td>\n",
       "      <td>N</td>\n",
       "      <td>N</td>\n",
       "      <td>0604</td>\n",
       "      <td>06006</td>\n",
       "      <td>06001</td>\n",
       "      <td>2019-2020</td>\n",
       "      <td>POINT (-121.25110 38.81430)</td>\n",
       "    </tr>\n",
       "    <tr>\n",
       "      <th>4</th>\n",
       "      <td>Whitney High</td>\n",
       "      <td>060001311010</td>\n",
       "      <td>Whitney High</td>\n",
       "      <td>0600013</td>\n",
       "      <td>09</td>\n",
       "      <td>12</td>\n",
       "      <td>0</td>\n",
       "      <td>CA</td>\n",
       "      <td>0</td>\n",
       "      <td>56098.318059</td>\n",
       "      <td>...</td>\n",
       "      <td>1</td>\n",
       "      <td>472</td>\n",
       "      <td>Sacramento-Roseville, CA</td>\n",
       "      <td>N</td>\n",
       "      <td>N</td>\n",
       "      <td>0604</td>\n",
       "      <td>06006</td>\n",
       "      <td>06001</td>\n",
       "      <td>2019-2020</td>\n",
       "      <td>POINT (-121.28940 38.83640)</td>\n",
       "    </tr>\n",
       "  </tbody>\n",
       "</table>\n",
       "<p>5 rows × 40 columns</p>\n",
       "</div>"
      ],
      "text/plain": [
       "        SrcName       ncessch              schnam    leaid gslo gshi defacto  \\\n",
       "0  Vasquez High  060000103278        Vasquez High  0600001   09   12       0   \n",
       "1          None  060000908779  Cuyama Valley High  0600009   09   12       1   \n",
       "2          None  060001109065        Herlong High  0600011   09   12       1   \n",
       "3  Rocklin High  060001302405        Rocklin High  0600013   09   12       0   \n",
       "4  Whitney High  060001311010        Whitney High  0600013   09   12       0   \n",
       "\n",
       "  stAbbrev openEnroll     Shape_Leng  ...  CBSATYPE  CSA  \\\n",
       "0       CA          0  133901.224937  ...         1  348   \n",
       "1       CA          0  376387.196533  ...         1    N   \n",
       "2       CA          0  209495.629862  ...         2    N   \n",
       "3       CA          0   30541.411329  ...         1  472   \n",
       "4       CA          0   56098.318059  ...         1  472   \n",
       "\n",
       "                        NMCSA NECTA NMNECTA    CD   SLDL   SLDU SCHOOLYEAR  \\\n",
       "0  Los Angeles-Long Beach, CA     N       N  0625  06036  06021  2019-2020   \n",
       "1                           N     N       N  0624  06035  06019  2019-2020   \n",
       "2                           N     N       N  0601  06001  06001  2019-2020   \n",
       "3    Sacramento-Roseville, CA     N       N  0604  06006  06001  2019-2020   \n",
       "4    Sacramento-Roseville, CA     N       N  0604  06006  06001  2019-2020   \n",
       "\n",
       "                    geometry_y  \n",
       "0  POINT (-118.21610 34.49360)  \n",
       "1  POINT (-119.67470 34.94380)  \n",
       "2  POINT (-120.14420 40.13910)  \n",
       "3  POINT (-121.25110 38.81430)  \n",
       "4  POINT (-121.28940 38.83640)  \n",
       "\n",
       "[5 rows x 40 columns]"
      ]
     },
     "execution_count": 21,
     "metadata": {},
     "output_type": "execute_result"
    }
   ],
   "source": [
    "CA_schools.head()"
   ]
  },
  {
   "cell_type": "code",
   "execution_count": 22,
   "id": "69744fd8",
   "metadata": {},
   "outputs": [
    {
     "data": {
      "text/html": [
       "<div>\n",
       "<style scoped>\n",
       "    .dataframe tbody tr th:only-of-type {\n",
       "        vertical-align: middle;\n",
       "    }\n",
       "\n",
       "    .dataframe tbody tr th {\n",
       "        vertical-align: top;\n",
       "    }\n",
       "\n",
       "    .dataframe thead th {\n",
       "        text-align: right;\n",
       "    }\n",
       "</style>\n",
       "<table border=\"1\" class=\"dataframe\">\n",
       "  <thead>\n",
       "    <tr style=\"text-align: right;\">\n",
       "      <th></th>\n",
       "      <th>SrcName</th>\n",
       "      <th>ncessch</th>\n",
       "      <th>schnam</th>\n",
       "      <th>leaid</th>\n",
       "      <th>gslo</th>\n",
       "      <th>gshi</th>\n",
       "      <th>defacto</th>\n",
       "      <th>stAbbrev</th>\n",
       "      <th>openEnroll</th>\n",
       "      <th>Shape_Leng</th>\n",
       "      <th>...</th>\n",
       "      <th>CBSATYPE</th>\n",
       "      <th>CSA</th>\n",
       "      <th>NMCSA</th>\n",
       "      <th>NECTA</th>\n",
       "      <th>NMNECTA</th>\n",
       "      <th>CD</th>\n",
       "      <th>SLDL</th>\n",
       "      <th>SLDU</th>\n",
       "      <th>SCHOOLYEAR</th>\n",
       "      <th>geometry_y</th>\n",
       "    </tr>\n",
       "  </thead>\n",
       "  <tbody>\n",
       "    <tr>\n",
       "      <th>0</th>\n",
       "      <td>Vasquez High</td>\n",
       "      <td>060000103278</td>\n",
       "      <td>Vasquez High</td>\n",
       "      <td>0600001</td>\n",
       "      <td>09</td>\n",
       "      <td>12</td>\n",
       "      <td>0</td>\n",
       "      <td>CA</td>\n",
       "      <td>0</td>\n",
       "      <td>133901.224937</td>\n",
       "      <td>...</td>\n",
       "      <td>1</td>\n",
       "      <td>348</td>\n",
       "      <td>Los Angeles-Long Beach, CA</td>\n",
       "      <td>N</td>\n",
       "      <td>N</td>\n",
       "      <td>0625</td>\n",
       "      <td>06036</td>\n",
       "      <td>06021</td>\n",
       "      <td>2019-2020</td>\n",
       "      <td>POINT (-118.21610 34.49360)</td>\n",
       "    </tr>\n",
       "    <tr>\n",
       "      <th>1</th>\n",
       "      <td>None</td>\n",
       "      <td>060000908779</td>\n",
       "      <td>Cuyama Valley High</td>\n",
       "      <td>0600009</td>\n",
       "      <td>09</td>\n",
       "      <td>12</td>\n",
       "      <td>1</td>\n",
       "      <td>CA</td>\n",
       "      <td>0</td>\n",
       "      <td>376387.196533</td>\n",
       "      <td>...</td>\n",
       "      <td>1</td>\n",
       "      <td>N</td>\n",
       "      <td>N</td>\n",
       "      <td>N</td>\n",
       "      <td>N</td>\n",
       "      <td>0624</td>\n",
       "      <td>06035</td>\n",
       "      <td>06019</td>\n",
       "      <td>2019-2020</td>\n",
       "      <td>POINT (-119.67470 34.94380)</td>\n",
       "    </tr>\n",
       "    <tr>\n",
       "      <th>2</th>\n",
       "      <td>None</td>\n",
       "      <td>060001109065</td>\n",
       "      <td>Herlong High</td>\n",
       "      <td>0600011</td>\n",
       "      <td>09</td>\n",
       "      <td>12</td>\n",
       "      <td>1</td>\n",
       "      <td>CA</td>\n",
       "      <td>0</td>\n",
       "      <td>209495.629862</td>\n",
       "      <td>...</td>\n",
       "      <td>2</td>\n",
       "      <td>N</td>\n",
       "      <td>N</td>\n",
       "      <td>N</td>\n",
       "      <td>N</td>\n",
       "      <td>0601</td>\n",
       "      <td>06001</td>\n",
       "      <td>06001</td>\n",
       "      <td>2019-2020</td>\n",
       "      <td>POINT (-120.14420 40.13910)</td>\n",
       "    </tr>\n",
       "    <tr>\n",
       "      <th>3</th>\n",
       "      <td>Rocklin High</td>\n",
       "      <td>060001302405</td>\n",
       "      <td>Rocklin High</td>\n",
       "      <td>0600013</td>\n",
       "      <td>09</td>\n",
       "      <td>12</td>\n",
       "      <td>0</td>\n",
       "      <td>CA</td>\n",
       "      <td>0</td>\n",
       "      <td>30541.411329</td>\n",
       "      <td>...</td>\n",
       "      <td>1</td>\n",
       "      <td>472</td>\n",
       "      <td>Sacramento-Roseville, CA</td>\n",
       "      <td>N</td>\n",
       "      <td>N</td>\n",
       "      <td>0604</td>\n",
       "      <td>06006</td>\n",
       "      <td>06001</td>\n",
       "      <td>2019-2020</td>\n",
       "      <td>POINT (-121.25110 38.81430)</td>\n",
       "    </tr>\n",
       "    <tr>\n",
       "      <th>4</th>\n",
       "      <td>Whitney High</td>\n",
       "      <td>060001311010</td>\n",
       "      <td>Whitney High</td>\n",
       "      <td>0600013</td>\n",
       "      <td>09</td>\n",
       "      <td>12</td>\n",
       "      <td>0</td>\n",
       "      <td>CA</td>\n",
       "      <td>0</td>\n",
       "      <td>56098.318059</td>\n",
       "      <td>...</td>\n",
       "      <td>1</td>\n",
       "      <td>472</td>\n",
       "      <td>Sacramento-Roseville, CA</td>\n",
       "      <td>N</td>\n",
       "      <td>N</td>\n",
       "      <td>0604</td>\n",
       "      <td>06006</td>\n",
       "      <td>06001</td>\n",
       "      <td>2019-2020</td>\n",
       "      <td>POINT (-121.28940 38.83640)</td>\n",
       "    </tr>\n",
       "  </tbody>\n",
       "</table>\n",
       "<p>5 rows × 40 columns</p>\n",
       "</div>"
      ],
      "text/plain": [
       "        SrcName       ncessch              schnam    leaid gslo gshi defacto  \\\n",
       "0  Vasquez High  060000103278        Vasquez High  0600001   09   12       0   \n",
       "1          None  060000908779  Cuyama Valley High  0600009   09   12       1   \n",
       "2          None  060001109065        Herlong High  0600011   09   12       1   \n",
       "3  Rocklin High  060001302405        Rocklin High  0600013   09   12       0   \n",
       "4  Whitney High  060001311010        Whitney High  0600013   09   12       0   \n",
       "\n",
       "  stAbbrev openEnroll     Shape_Leng  ...  CBSATYPE  CSA  \\\n",
       "0       CA          0  133901.224937  ...         1  348   \n",
       "1       CA          0  376387.196533  ...         1    N   \n",
       "2       CA          0  209495.629862  ...         2    N   \n",
       "3       CA          0   30541.411329  ...         1  472   \n",
       "4       CA          0   56098.318059  ...         1  472   \n",
       "\n",
       "                        NMCSA NECTA NMNECTA    CD   SLDL   SLDU SCHOOLYEAR  \\\n",
       "0  Los Angeles-Long Beach, CA     N       N  0625  06036  06021  2019-2020   \n",
       "1                           N     N       N  0624  06035  06019  2019-2020   \n",
       "2                           N     N       N  0601  06001  06001  2019-2020   \n",
       "3    Sacramento-Roseville, CA     N       N  0604  06006  06001  2019-2020   \n",
       "4    Sacramento-Roseville, CA     N       N  0604  06006  06001  2019-2020   \n",
       "\n",
       "                    geometry_y  \n",
       "0  POINT (-118.21610 34.49360)  \n",
       "1  POINT (-119.67470 34.94380)  \n",
       "2  POINT (-120.14420 40.13910)  \n",
       "3  POINT (-121.25110 38.81430)  \n",
       "4  POINT (-121.28940 38.83640)  \n",
       "\n",
       "[5 rows x 40 columns]"
      ]
     },
     "execution_count": 22,
     "metadata": {},
     "output_type": "execute_result"
    }
   ],
   "source": [
    "CA_schools.head()"
   ]
  },
  {
   "cell_type": "code",
   "execution_count": 23,
   "id": "f6dcb915",
   "metadata": {},
   "outputs": [
    {
     "data": {
      "text/plain": [
       "pandas.core.frame.DataFrame"
      ]
     },
     "execution_count": 23,
     "metadata": {},
     "output_type": "execute_result"
    }
   ],
   "source": [
    "type(CA_schools)"
   ]
  },
  {
   "cell_type": "code",
   "execution_count": 24,
   "id": "3e4b310c",
   "metadata": {},
   "outputs": [],
   "source": [
    "CA_dataframe=geopandas.GeoDataFrame(CA_schools, geometry = \"geometry_y\")"
   ]
  },
  {
   "cell_type": "code",
   "execution_count": 25,
   "id": "71db86d3",
   "metadata": {},
   "outputs": [
    {
     "data": {
      "text/plain": [
       "pandas.core.frame.DataFrame"
      ]
     },
     "execution_count": 25,
     "metadata": {},
     "output_type": "execute_result"
    }
   ],
   "source": [
    "type(CA_schools)"
   ]
  },
  {
   "cell_type": "code",
   "execution_count": 26,
   "id": "b66d1439",
   "metadata": {},
   "outputs": [
    {
     "data": {
      "text/plain": [
       "<AxesSubplot:>"
      ]
     },
     "execution_count": 26,
     "metadata": {},
     "output_type": "execute_result"
    },
    {
     "data": {
      "image/png": "[encoded data removed]",
      "text/plain": [
       "<Figure size 432x288 with 1 Axes>"
      ]
     },
     "metadata": {
      "needs_background": "light"
     },
     "output_type": "display_data"
    }
   ],
   "source": [
    "CA_dataframe.plot()"
   ]
  },
  {
   "cell_type": "code",
   "execution_count": 27,
   "id": "aa308905",
   "metadata": {},
   "outputs": [
    {
     "data": {
      "text/plain": [
       "0        Los Angeles County\n",
       "1      Santa Barbara County\n",
       "2             Lassen County\n",
       "3             Placer County\n",
       "4             Placer County\n",
       "               ...         \n",
       "928           Fresno County\n",
       "929        Riverside County\n",
       "930        Riverside County\n",
       "931         Tuolumne County\n",
       "932         Tuolumne County\n",
       "Name: NMCNTY, Length: 933, dtype: object"
      ]
     },
     "execution_count": 27,
     "metadata": {},
     "output_type": "execute_result"
    }
   ],
   "source": [
    "CA_schools.loc[:,\"NMCNTY\"]"
   ]
  },
  {
   "cell_type": "code",
   "execution_count": 28,
   "id": "885b59b1",
   "metadata": {},
   "outputs": [
    {
     "data": {
      "text/plain": [
       "0        Los Angeles County\n",
       "1      Santa Barbara County\n",
       "2             Lassen County\n",
       "3             Placer County\n",
       "4             Placer County\n",
       "               ...         \n",
       "928           Fresno County\n",
       "929        Riverside County\n",
       "930        Riverside County\n",
       "931         Tuolumne County\n",
       "932         Tuolumne County\n",
       "Name: NMCNTY, Length: 933, dtype: object"
      ]
     },
     "execution_count": 28,
     "metadata": {},
     "output_type": "execute_result"
    }
   ],
   "source": [
    "CA_schools.loc[:,\"NMCNTY\"]"
   ]
  },
  {
   "cell_type": "code",
   "execution_count": 29,
   "id": "2282b5a4",
   "metadata": {},
   "outputs": [
    {
     "data": {
      "text/plain": [
       "0      06037\n",
       "1      06083\n",
       "2      06035\n",
       "3      06061\n",
       "4      06061\n",
       "       ...  \n",
       "928    06019\n",
       "929    06065\n",
       "930    06065\n",
       "931    06109\n",
       "932    06109\n",
       "Name: CNTY, Length: 933, dtype: object"
      ]
     },
     "execution_count": 29,
     "metadata": {},
     "output_type": "execute_result"
    }
   ],
   "source": [
    "CA_schools.loc[:,\"CNTY\"]"
   ]
  },
  {
   "cell_type": "code",
   "execution_count": 30,
   "id": "652545dc",
   "metadata": {},
   "outputs": [
    {
     "data": {
      "text/html": [
       "<div>\n",
       "<style scoped>\n",
       "    .dataframe tbody tr th:only-of-type {\n",
       "        vertical-align: middle;\n",
       "    }\n",
       "\n",
       "    .dataframe tbody tr th {\n",
       "        vertical-align: top;\n",
       "    }\n",
       "\n",
       "    .dataframe thead th {\n",
       "        text-align: right;\n",
       "    }\n",
       "</style>\n",
       "<table border=\"1\" class=\"dataframe\">\n",
       "  <thead>\n",
       "    <tr style=\"text-align: right;\">\n",
       "      <th></th>\n",
       "      <th>SrcName</th>\n",
       "      <th>ncessch</th>\n",
       "      <th>schnam</th>\n",
       "      <th>leaid</th>\n",
       "      <th>gslo</th>\n",
       "      <th>gshi</th>\n",
       "      <th>defacto</th>\n",
       "      <th>stAbbrev</th>\n",
       "      <th>openEnroll</th>\n",
       "      <th>Shape_Leng</th>\n",
       "      <th>...</th>\n",
       "      <th>CBSATYPE</th>\n",
       "      <th>CSA</th>\n",
       "      <th>NMCSA</th>\n",
       "      <th>NECTA</th>\n",
       "      <th>NMNECTA</th>\n",
       "      <th>CD</th>\n",
       "      <th>SLDL</th>\n",
       "      <th>SLDU</th>\n",
       "      <th>SCHOOLYEAR</th>\n",
       "      <th>geometry_y</th>\n",
       "    </tr>\n",
       "  </thead>\n",
       "  <tbody>\n",
       "  </tbody>\n",
       "</table>\n",
       "<p>0 rows × 40 columns</p>\n",
       "</div>"
      ],
      "text/plain": [
       "Empty DataFrame\n",
       "Columns: [SrcName, ncessch, schnam, leaid, gslo, gshi, defacto, stAbbrev, openEnroll, Shape_Leng, Shape_Area, level, MultiBdy, geometry_x, NCESSCH, LEAID, NAME, OPSTFIPS, STREET, CITY, STATE, ZIP, STFIP, CNTY, NMCNTY, LOCALE, LAT, LON, CBSA, NMCBSA, CBSATYPE, CSA, NMCSA, NECTA, NMNECTA, CD, SLDL, SLDU, SCHOOLYEAR, geometry_y]\n",
       "Index: []\n",
       "\n",
       "[0 rows x 40 columns]"
      ]
     },
     "execution_count": 30,
     "metadata": {},
     "output_type": "execute_result"
    }
   ],
   "source": [
    "CA_schools.loc[CA_schools['CNTY'] == 929]"
   ]
  },
  {
   "cell_type": "code",
   "execution_count": 31,
   "id": "53e6561e",
   "metadata": {},
   "outputs": [
    {
     "data": {
      "text/html": [
       "<div>\n",
       "<style scoped>\n",
       "    .dataframe tbody tr th:only-of-type {\n",
       "        vertical-align: middle;\n",
       "    }\n",
       "\n",
       "    .dataframe tbody tr th {\n",
       "        vertical-align: top;\n",
       "    }\n",
       "\n",
       "    .dataframe thead th {\n",
       "        text-align: right;\n",
       "    }\n",
       "</style>\n",
       "<table border=\"1\" class=\"dataframe\">\n",
       "  <thead>\n",
       "    <tr style=\"text-align: right;\">\n",
       "      <th></th>\n",
       "      <th>CNTY</th>\n",
       "    </tr>\n",
       "  </thead>\n",
       "  <tbody>\n",
       "    <tr>\n",
       "      <th>0</th>\n",
       "      <td>06037</td>\n",
       "    </tr>\n",
       "    <tr>\n",
       "      <th>1</th>\n",
       "      <td>06083</td>\n",
       "    </tr>\n",
       "    <tr>\n",
       "      <th>2</th>\n",
       "      <td>06035</td>\n",
       "    </tr>\n",
       "    <tr>\n",
       "      <th>3</th>\n",
       "      <td>06061</td>\n",
       "    </tr>\n",
       "    <tr>\n",
       "      <th>4</th>\n",
       "      <td>06061</td>\n",
       "    </tr>\n",
       "    <tr>\n",
       "      <th>...</th>\n",
       "      <td>...</td>\n",
       "    </tr>\n",
       "    <tr>\n",
       "      <th>928</th>\n",
       "      <td>06019</td>\n",
       "    </tr>\n",
       "    <tr>\n",
       "      <th>929</th>\n",
       "      <td>06065</td>\n",
       "    </tr>\n",
       "    <tr>\n",
       "      <th>930</th>\n",
       "      <td>06065</td>\n",
       "    </tr>\n",
       "    <tr>\n",
       "      <th>931</th>\n",
       "      <td>06109</td>\n",
       "    </tr>\n",
       "    <tr>\n",
       "      <th>932</th>\n",
       "      <td>06109</td>\n",
       "    </tr>\n",
       "  </tbody>\n",
       "</table>\n",
       "<p>933 rows × 1 columns</p>\n",
       "</div>"
      ],
      "text/plain": [
       "      CNTY\n",
       "0    06037\n",
       "1    06083\n",
       "2    06035\n",
       "3    06061\n",
       "4    06061\n",
       "..     ...\n",
       "928  06019\n",
       "929  06065\n",
       "930  06065\n",
       "931  06109\n",
       "932  06109\n",
       "\n",
       "[933 rows x 1 columns]"
      ]
     },
     "execution_count": 31,
     "metadata": {},
     "output_type": "execute_result"
    }
   ],
   "source": [
    "CA_schools[['CNTY']]"
   ]
  },
  {
   "cell_type": "code",
   "execution_count": 32,
   "id": "59d5efbd",
   "metadata": {},
   "outputs": [
    {
     "data": {
      "text/html": [
       "<div>\n",
       "<style scoped>\n",
       "    .dataframe tbody tr th:only-of-type {\n",
       "        vertical-align: middle;\n",
       "    }\n",
       "\n",
       "    .dataframe tbody tr th {\n",
       "        vertical-align: top;\n",
       "    }\n",
       "\n",
       "    .dataframe thead th {\n",
       "        text-align: right;\n",
       "    }\n",
       "</style>\n",
       "<table border=\"1\" class=\"dataframe\">\n",
       "  <thead>\n",
       "    <tr style=\"text-align: right;\">\n",
       "      <th></th>\n",
       "      <th>SrcName</th>\n",
       "      <th>ncessch</th>\n",
       "      <th>schnam</th>\n",
       "      <th>leaid</th>\n",
       "      <th>gslo</th>\n",
       "      <th>gshi</th>\n",
       "      <th>defacto</th>\n",
       "      <th>stAbbrev</th>\n",
       "      <th>openEnroll</th>\n",
       "      <th>Shape_Leng</th>\n",
       "      <th>...</th>\n",
       "      <th>CBSATYPE</th>\n",
       "      <th>CSA</th>\n",
       "      <th>NMCSA</th>\n",
       "      <th>NECTA</th>\n",
       "      <th>NMNECTA</th>\n",
       "      <th>CD</th>\n",
       "      <th>SLDL</th>\n",
       "      <th>SLDU</th>\n",
       "      <th>SCHOOLYEAR</th>\n",
       "      <th>geometry_y</th>\n",
       "    </tr>\n",
       "  </thead>\n",
       "  <tbody>\n",
       "    <tr>\n",
       "      <th>0</th>\n",
       "      <td>Vasquez High</td>\n",
       "      <td>060000103278</td>\n",
       "      <td>Vasquez High</td>\n",
       "      <td>0600001</td>\n",
       "      <td>09</td>\n",
       "      <td>12</td>\n",
       "      <td>0</td>\n",
       "      <td>CA</td>\n",
       "      <td>0</td>\n",
       "      <td>133901.224937</td>\n",
       "      <td>...</td>\n",
       "      <td>1</td>\n",
       "      <td>348</td>\n",
       "      <td>Los Angeles-Long Beach, CA</td>\n",
       "      <td>N</td>\n",
       "      <td>N</td>\n",
       "      <td>0625</td>\n",
       "      <td>06036</td>\n",
       "      <td>06021</td>\n",
       "      <td>2019-2020</td>\n",
       "      <td>POINT (-118.21610 34.49360)</td>\n",
       "    </tr>\n",
       "    <tr>\n",
       "      <th>1</th>\n",
       "      <td>None</td>\n",
       "      <td>060000908779</td>\n",
       "      <td>Cuyama Valley High</td>\n",
       "      <td>0600009</td>\n",
       "      <td>09</td>\n",
       "      <td>12</td>\n",
       "      <td>1</td>\n",
       "      <td>CA</td>\n",
       "      <td>0</td>\n",
       "      <td>376387.196533</td>\n",
       "      <td>...</td>\n",
       "      <td>1</td>\n",
       "      <td>N</td>\n",
       "      <td>N</td>\n",
       "      <td>N</td>\n",
       "      <td>N</td>\n",
       "      <td>0624</td>\n",
       "      <td>06035</td>\n",
       "      <td>06019</td>\n",
       "      <td>2019-2020</td>\n",
       "      <td>POINT (-119.67470 34.94380)</td>\n",
       "    </tr>\n",
       "    <tr>\n",
       "      <th>2</th>\n",
       "      <td>None</td>\n",
       "      <td>060001109065</td>\n",
       "      <td>Herlong High</td>\n",
       "      <td>0600011</td>\n",
       "      <td>09</td>\n",
       "      <td>12</td>\n",
       "      <td>1</td>\n",
       "      <td>CA</td>\n",
       "      <td>0</td>\n",
       "      <td>209495.629862</td>\n",
       "      <td>...</td>\n",
       "      <td>2</td>\n",
       "      <td>N</td>\n",
       "      <td>N</td>\n",
       "      <td>N</td>\n",
       "      <td>N</td>\n",
       "      <td>0601</td>\n",
       "      <td>06001</td>\n",
       "      <td>06001</td>\n",
       "      <td>2019-2020</td>\n",
       "      <td>POINT (-120.14420 40.13910)</td>\n",
       "    </tr>\n",
       "    <tr>\n",
       "      <th>3</th>\n",
       "      <td>Rocklin High</td>\n",
       "      <td>060001302405</td>\n",
       "      <td>Rocklin High</td>\n",
       "      <td>0600013</td>\n",
       "      <td>09</td>\n",
       "      <td>12</td>\n",
       "      <td>0</td>\n",
       "      <td>CA</td>\n",
       "      <td>0</td>\n",
       "      <td>30541.411329</td>\n",
       "      <td>...</td>\n",
       "      <td>1</td>\n",
       "      <td>472</td>\n",
       "      <td>Sacramento-Roseville, CA</td>\n",
       "      <td>N</td>\n",
       "      <td>N</td>\n",
       "      <td>0604</td>\n",
       "      <td>06006</td>\n",
       "      <td>06001</td>\n",
       "      <td>2019-2020</td>\n",
       "      <td>POINT (-121.25110 38.81430)</td>\n",
       "    </tr>\n",
       "    <tr>\n",
       "      <th>4</th>\n",
       "      <td>Whitney High</td>\n",
       "      <td>060001311010</td>\n",
       "      <td>Whitney High</td>\n",
       "      <td>0600013</td>\n",
       "      <td>09</td>\n",
       "      <td>12</td>\n",
       "      <td>0</td>\n",
       "      <td>CA</td>\n",
       "      <td>0</td>\n",
       "      <td>56098.318059</td>\n",
       "      <td>...</td>\n",
       "      <td>1</td>\n",
       "      <td>472</td>\n",
       "      <td>Sacramento-Roseville, CA</td>\n",
       "      <td>N</td>\n",
       "      <td>N</td>\n",
       "      <td>0604</td>\n",
       "      <td>06006</td>\n",
       "      <td>06001</td>\n",
       "      <td>2019-2020</td>\n",
       "      <td>POINT (-121.28940 38.83640)</td>\n",
       "    </tr>\n",
       "  </tbody>\n",
       "</table>\n",
       "<p>5 rows × 40 columns</p>\n",
       "</div>"
      ],
      "text/plain": [
       "        SrcName       ncessch              schnam    leaid gslo gshi defacto  \\\n",
       "0  Vasquez High  060000103278        Vasquez High  0600001   09   12       0   \n",
       "1          None  060000908779  Cuyama Valley High  0600009   09   12       1   \n",
       "2          None  060001109065        Herlong High  0600011   09   12       1   \n",
       "3  Rocklin High  060001302405        Rocklin High  0600013   09   12       0   \n",
       "4  Whitney High  060001311010        Whitney High  0600013   09   12       0   \n",
       "\n",
       "  stAbbrev openEnroll     Shape_Leng  ...  CBSATYPE  CSA  \\\n",
       "0       CA          0  133901.224937  ...         1  348   \n",
       "1       CA          0  376387.196533  ...         1    N   \n",
       "2       CA          0  209495.629862  ...         2    N   \n",
       "3       CA          0   30541.411329  ...         1  472   \n",
       "4       CA          0   56098.318059  ...         1  472   \n",
       "\n",
       "                        NMCSA NECTA NMNECTA    CD   SLDL   SLDU SCHOOLYEAR  \\\n",
       "0  Los Angeles-Long Beach, CA     N       N  0625  06036  06021  2019-2020   \n",
       "1                           N     N       N  0624  06035  06019  2019-2020   \n",
       "2                           N     N       N  0601  06001  06001  2019-2020   \n",
       "3    Sacramento-Roseville, CA     N       N  0604  06006  06001  2019-2020   \n",
       "4    Sacramento-Roseville, CA     N       N  0604  06006  06001  2019-2020   \n",
       "\n",
       "                    geometry_y  \n",
       "0  POINT (-118.21610 34.49360)  \n",
       "1  POINT (-119.67470 34.94380)  \n",
       "2  POINT (-120.14420 40.13910)  \n",
       "3  POINT (-121.25110 38.81430)  \n",
       "4  POINT (-121.28940 38.83640)  \n",
       "\n",
       "[5 rows x 40 columns]"
      ]
     },
     "execution_count": 32,
     "metadata": {},
     "output_type": "execute_result"
    }
   ],
   "source": [
    "rivcoschools = CA_schools[CA_schools.CNTY == '06065']\n",
    "CA_schools.head()"
   ]
  },
  {
   "cell_type": "code",
   "execution_count": 33,
   "id": "d1b05426",
   "metadata": {},
   "outputs": [],
   "source": [
    "sdschools = CA_schools[CA_schools.CNTY == '06073']"
   ]
  },
  {
   "cell_type": "code",
   "execution_count": 34,
   "id": "11c9a371",
   "metadata": {},
   "outputs": [
    {
     "data": {
      "text/html": [
       "<div>\n",
       "<style scoped>\n",
       "    .dataframe tbody tr th:only-of-type {\n",
       "        vertical-align: middle;\n",
       "    }\n",
       "\n",
       "    .dataframe tbody tr th {\n",
       "        vertical-align: top;\n",
       "    }\n",
       "\n",
       "    .dataframe thead th {\n",
       "        text-align: right;\n",
       "    }\n",
       "</style>\n",
       "<table border=\"1\" class=\"dataframe\">\n",
       "  <thead>\n",
       "    <tr style=\"text-align: right;\">\n",
       "      <th></th>\n",
       "      <th>SrcName</th>\n",
       "      <th>ncessch</th>\n",
       "      <th>schnam</th>\n",
       "      <th>leaid</th>\n",
       "      <th>gslo</th>\n",
       "      <th>gshi</th>\n",
       "      <th>defacto</th>\n",
       "      <th>stAbbrev</th>\n",
       "      <th>openEnroll</th>\n",
       "      <th>Shape_Leng</th>\n",
       "      <th>...</th>\n",
       "      <th>CBSATYPE</th>\n",
       "      <th>CSA</th>\n",
       "      <th>NMCSA</th>\n",
       "      <th>NECTA</th>\n",
       "      <th>NMNECTA</th>\n",
       "      <th>CD</th>\n",
       "      <th>SLDL</th>\n",
       "      <th>SLDU</th>\n",
       "      <th>SCHOOLYEAR</th>\n",
       "      <th>geometry_y</th>\n",
       "    </tr>\n",
       "  </thead>\n",
       "  <tbody>\n",
       "    <tr>\n",
       "      <th>38</th>\n",
       "      <td>None</td>\n",
       "      <td>060004205341</td>\n",
       "      <td>Warner Junior/Senior High</td>\n",
       "      <td>0600042</td>\n",
       "      <td>07</td>\n",
       "      <td>12</td>\n",
       "      <td>1</td>\n",
       "      <td>CA</td>\n",
       "      <td>0</td>\n",
       "      <td>249481.979211</td>\n",
       "      <td>...</td>\n",
       "      <td>1</td>\n",
       "      <td>N</td>\n",
       "      <td>N</td>\n",
       "      <td>N</td>\n",
       "      <td>N</td>\n",
       "      <td>0650</td>\n",
       "      <td>06071</td>\n",
       "      <td>06038</td>\n",
       "      <td>2019-2020</td>\n",
       "      <td>POINT (-116.64311 33.27433)</td>\n",
       "    </tr>\n",
       "    <tr>\n",
       "      <th>61</th>\n",
       "      <td>None</td>\n",
       "      <td>060006908607</td>\n",
       "      <td>Valley Center High</td>\n",
       "      <td>0600069</td>\n",
       "      <td>09</td>\n",
       "      <td>12</td>\n",
       "      <td>0</td>\n",
       "      <td>CA</td>\n",
       "      <td>0</td>\n",
       "      <td>200628.920436</td>\n",
       "      <td>...</td>\n",
       "      <td>1</td>\n",
       "      <td>N</td>\n",
       "      <td>N</td>\n",
       "      <td>N</td>\n",
       "      <td>N</td>\n",
       "      <td>0650</td>\n",
       "      <td>06075</td>\n",
       "      <td>06038</td>\n",
       "      <td>2019-2020</td>\n",
       "      <td>POINT (-117.02460 33.27970)</td>\n",
       "    </tr>\n",
       "    <tr>\n",
       "      <th>145</th>\n",
       "      <td>None</td>\n",
       "      <td>060570000518</td>\n",
       "      <td>Borrego Springs High</td>\n",
       "      <td>0605700</td>\n",
       "      <td>09</td>\n",
       "      <td>12</td>\n",
       "      <td>1</td>\n",
       "      <td>CA</td>\n",
       "      <td>0</td>\n",
       "      <td>187164.887171</td>\n",
       "      <td>...</td>\n",
       "      <td>1</td>\n",
       "      <td>N</td>\n",
       "      <td>N</td>\n",
       "      <td>N</td>\n",
       "      <td>N</td>\n",
       "      <td>0650</td>\n",
       "      <td>06071</td>\n",
       "      <td>06038</td>\n",
       "      <td>2019-2020</td>\n",
       "      <td>POINT (-116.38280 33.26500)</td>\n",
       "    </tr>\n",
       "    <tr>\n",
       "      <th>168</th>\n",
       "      <td>Carlsbad HS</td>\n",
       "      <td>060750000709</td>\n",
       "      <td>Carlsbad High</td>\n",
       "      <td>0607500</td>\n",
       "      <td>09</td>\n",
       "      <td>12</td>\n",
       "      <td>0</td>\n",
       "      <td>CA</td>\n",
       "      <td>0</td>\n",
       "      <td>52514.184328</td>\n",
       "      <td>...</td>\n",
       "      <td>1</td>\n",
       "      <td>N</td>\n",
       "      <td>N</td>\n",
       "      <td>N</td>\n",
       "      <td>N</td>\n",
       "      <td>0649</td>\n",
       "      <td>06076</td>\n",
       "      <td>06036</td>\n",
       "      <td>2019-2020</td>\n",
       "      <td>POINT (-117.32930 33.16370)</td>\n",
       "    </tr>\n",
       "    <tr>\n",
       "      <th>169</th>\n",
       "      <td>Sage HS</td>\n",
       "      <td>060750013058</td>\n",
       "      <td>Sage Creek High</td>\n",
       "      <td>0607500</td>\n",
       "      <td>09</td>\n",
       "      <td>12</td>\n",
       "      <td>0</td>\n",
       "      <td>CA</td>\n",
       "      <td>0</td>\n",
       "      <td>52514.184328</td>\n",
       "      <td>...</td>\n",
       "      <td>1</td>\n",
       "      <td>N</td>\n",
       "      <td>N</td>\n",
       "      <td>N</td>\n",
       "      <td>N</td>\n",
       "      <td>0649</td>\n",
       "      <td>06076</td>\n",
       "      <td>06036</td>\n",
       "      <td>2019-2020</td>\n",
       "      <td>POINT (-117.28477 33.15848)</td>\n",
       "    </tr>\n",
       "  </tbody>\n",
       "</table>\n",
       "<p>5 rows × 40 columns</p>\n",
       "</div>"
      ],
      "text/plain": [
       "         SrcName       ncessch                     schnam    leaid gslo gshi  \\\n",
       "38          None  060004205341  Warner Junior/Senior High  0600042   07   12   \n",
       "61          None  060006908607         Valley Center High  0600069   09   12   \n",
       "145         None  060570000518       Borrego Springs High  0605700   09   12   \n",
       "168  Carlsbad HS  060750000709              Carlsbad High  0607500   09   12   \n",
       "169      Sage HS  060750013058            Sage Creek High  0607500   09   12   \n",
       "\n",
       "    defacto stAbbrev openEnroll     Shape_Leng  ...  CBSATYPE CSA NMCSA NECTA  \\\n",
       "38        1       CA          0  249481.979211  ...         1   N     N     N   \n",
       "61        0       CA          0  200628.920436  ...         1   N     N     N   \n",
       "145       1       CA          0  187164.887171  ...         1   N     N     N   \n",
       "168       0       CA          0   52514.184328  ...         1   N     N     N   \n",
       "169       0       CA          0   52514.184328  ...         1   N     N     N   \n",
       "\n",
       "    NMNECTA    CD   SLDL   SLDU SCHOOLYEAR                   geometry_y  \n",
       "38        N  0650  06071  06038  2019-2020  POINT (-116.64311 33.27433)  \n",
       "61        N  0650  06075  06038  2019-2020  POINT (-117.02460 33.27970)  \n",
       "145       N  0650  06071  06038  2019-2020  POINT (-116.38280 33.26500)  \n",
       "168       N  0649  06076  06036  2019-2020  POINT (-117.32930 33.16370)  \n",
       "169       N  0649  06076  06036  2019-2020  POINT (-117.28477 33.15848)  \n",
       "\n",
       "[5 rows x 40 columns]"
      ]
     },
     "execution_count": 34,
     "metadata": {},
     "output_type": "execute_result"
    }
   ],
   "source": [
    "sdschools.head()"
   ]
  },
  {
   "cell_type": "code",
   "execution_count": 35,
   "id": "e3de34cc",
   "metadata": {},
   "outputs": [],
   "source": [
    "ocschools = CA_schools[CA_schools.CNTY == '06059']"
   ]
  },
  {
   "cell_type": "code",
   "execution_count": 36,
   "id": "22b4804a",
   "metadata": {},
   "outputs": [
    {
     "data": {
      "text/html": [
       "<div>\n",
       "<style scoped>\n",
       "    .dataframe tbody tr th:only-of-type {\n",
       "        vertical-align: middle;\n",
       "    }\n",
       "\n",
       "    .dataframe tbody tr th {\n",
       "        vertical-align: top;\n",
       "    }\n",
       "\n",
       "    .dataframe thead th {\n",
       "        text-align: right;\n",
       "    }\n",
       "</style>\n",
       "<table border=\"1\" class=\"dataframe\">\n",
       "  <thead>\n",
       "    <tr style=\"text-align: right;\">\n",
       "      <th></th>\n",
       "      <th>SrcName</th>\n",
       "      <th>ncessch</th>\n",
       "      <th>schnam</th>\n",
       "      <th>leaid</th>\n",
       "      <th>gslo</th>\n",
       "      <th>gshi</th>\n",
       "      <th>defacto</th>\n",
       "      <th>stAbbrev</th>\n",
       "      <th>openEnroll</th>\n",
       "      <th>Shape_Leng</th>\n",
       "      <th>...</th>\n",
       "      <th>CBSATYPE</th>\n",
       "      <th>CSA</th>\n",
       "      <th>NMCSA</th>\n",
       "      <th>NECTA</th>\n",
       "      <th>NMNECTA</th>\n",
       "      <th>CD</th>\n",
       "      <th>SLDL</th>\n",
       "      <th>SLDU</th>\n",
       "      <th>SCHOOLYEAR</th>\n",
       "      <th>geometry_y</th>\n",
       "    </tr>\n",
       "  </thead>\n",
       "  <tbody>\n",
       "    <tr>\n",
       "      <th>99</th>\n",
       "      <td>Anaheim High</td>\n",
       "      <td>060263000169</td>\n",
       "      <td>Anaheim High</td>\n",
       "      <td>0602630</td>\n",
       "      <td>09</td>\n",
       "      <td>12</td>\n",
       "      <td>0</td>\n",
       "      <td>CA</td>\n",
       "      <td>0</td>\n",
       "      <td>22766.893402</td>\n",
       "      <td>...</td>\n",
       "      <td>1</td>\n",
       "      <td>348</td>\n",
       "      <td>Los Angeles-Long Beach, CA</td>\n",
       "      <td>N</td>\n",
       "      <td>N</td>\n",
       "      <td>0646</td>\n",
       "      <td>06069</td>\n",
       "      <td>06029</td>\n",
       "      <td>2019-2020</td>\n",
       "      <td>POINT (-117.92420 33.83370)</td>\n",
       "    </tr>\n",
       "    <tr>\n",
       "      <th>100</th>\n",
       "      <td>Cypress High</td>\n",
       "      <td>060263000172</td>\n",
       "      <td>Cypress High</td>\n",
       "      <td>0602630</td>\n",
       "      <td>09</td>\n",
       "      <td>12</td>\n",
       "      <td>0</td>\n",
       "      <td>CA</td>\n",
       "      <td>0</td>\n",
       "      <td>20510.276195</td>\n",
       "      <td>...</td>\n",
       "      <td>1</td>\n",
       "      <td>348</td>\n",
       "      <td>Los Angeles-Long Beach, CA</td>\n",
       "      <td>N</td>\n",
       "      <td>N</td>\n",
       "      <td>0647</td>\n",
       "      <td>06065</td>\n",
       "      <td>06029</td>\n",
       "      <td>2019-2020</td>\n",
       "      <td>POINT (-118.02920 33.82020)</td>\n",
       "    </tr>\n",
       "    <tr>\n",
       "      <th>101</th>\n",
       "      <td>Katella High</td>\n",
       "      <td>060263000176</td>\n",
       "      <td>Katella High</td>\n",
       "      <td>0602630</td>\n",
       "      <td>09</td>\n",
       "      <td>12</td>\n",
       "      <td>0</td>\n",
       "      <td>CA</td>\n",
       "      <td>0</td>\n",
       "      <td>23965.773536</td>\n",
       "      <td>...</td>\n",
       "      <td>1</td>\n",
       "      <td>348</td>\n",
       "      <td>Los Angeles-Long Beach, CA</td>\n",
       "      <td>N</td>\n",
       "      <td>N</td>\n",
       "      <td>0646</td>\n",
       "      <td>06069</td>\n",
       "      <td>06034</td>\n",
       "      <td>2019-2020</td>\n",
       "      <td>POINT (-117.88550 33.82400)</td>\n",
       "    </tr>\n",
       "    <tr>\n",
       "      <th>102</th>\n",
       "      <td>Kennedy High</td>\n",
       "      <td>060263000177</td>\n",
       "      <td>John F. Kennedy High</td>\n",
       "      <td>0602630</td>\n",
       "      <td>09</td>\n",
       "      <td>12</td>\n",
       "      <td>0</td>\n",
       "      <td>CA</td>\n",
       "      <td>0</td>\n",
       "      <td>17198.602153</td>\n",
       "      <td>...</td>\n",
       "      <td>1</td>\n",
       "      <td>348</td>\n",
       "      <td>Los Angeles-Long Beach, CA</td>\n",
       "      <td>N</td>\n",
       "      <td>N</td>\n",
       "      <td>0638</td>\n",
       "      <td>06065</td>\n",
       "      <td>06029</td>\n",
       "      <td>2019-2020</td>\n",
       "      <td>POINT (-118.03770 33.84100)</td>\n",
       "    </tr>\n",
       "    <tr>\n",
       "      <th>103</th>\n",
       "      <td>Loara High</td>\n",
       "      <td>060263000180</td>\n",
       "      <td>Loara High</td>\n",
       "      <td>0602630</td>\n",
       "      <td>09</td>\n",
       "      <td>12</td>\n",
       "      <td>0</td>\n",
       "      <td>CA</td>\n",
       "      <td>0</td>\n",
       "      <td>22420.975852</td>\n",
       "      <td>...</td>\n",
       "      <td>1</td>\n",
       "      <td>348</td>\n",
       "      <td>Los Angeles-Long Beach, CA</td>\n",
       "      <td>N</td>\n",
       "      <td>N</td>\n",
       "      <td>0646</td>\n",
       "      <td>06065</td>\n",
       "      <td>06029</td>\n",
       "      <td>2019-2020</td>\n",
       "      <td>POINT (-117.94380 33.81170)</td>\n",
       "    </tr>\n",
       "  </tbody>\n",
       "</table>\n",
       "<p>5 rows × 40 columns</p>\n",
       "</div>"
      ],
      "text/plain": [
       "          SrcName       ncessch                schnam    leaid gslo gshi  \\\n",
       "99   Anaheim High  060263000169          Anaheim High  0602630   09   12   \n",
       "100  Cypress High  060263000172          Cypress High  0602630   09   12   \n",
       "101  Katella High  060263000176          Katella High  0602630   09   12   \n",
       "102  Kennedy High  060263000177  John F. Kennedy High  0602630   09   12   \n",
       "103    Loara High  060263000180            Loara High  0602630   09   12   \n",
       "\n",
       "    defacto stAbbrev openEnroll    Shape_Leng  ...  CBSATYPE  CSA  \\\n",
       "99        0       CA          0  22766.893402  ...         1  348   \n",
       "100       0       CA          0  20510.276195  ...         1  348   \n",
       "101       0       CA          0  23965.773536  ...         1  348   \n",
       "102       0       CA          0  17198.602153  ...         1  348   \n",
       "103       0       CA          0  22420.975852  ...         1  348   \n",
       "\n",
       "                          NMCSA NECTA NMNECTA    CD   SLDL   SLDU SCHOOLYEAR  \\\n",
       "99   Los Angeles-Long Beach, CA     N       N  0646  06069  06029  2019-2020   \n",
       "100  Los Angeles-Long Beach, CA     N       N  0647  06065  06029  2019-2020   \n",
       "101  Los Angeles-Long Beach, CA     N       N  0646  06069  06034  2019-2020   \n",
       "102  Los Angeles-Long Beach, CA     N       N  0638  06065  06029  2019-2020   \n",
       "103  Los Angeles-Long Beach, CA     N       N  0646  06065  06029  2019-2020   \n",
       "\n",
       "                      geometry_y  \n",
       "99   POINT (-117.92420 33.83370)  \n",
       "100  POINT (-118.02920 33.82020)  \n",
       "101  POINT (-117.88550 33.82400)  \n",
       "102  POINT (-118.03770 33.84100)  \n",
       "103  POINT (-117.94380 33.81170)  \n",
       "\n",
       "[5 rows x 40 columns]"
      ]
     },
     "execution_count": 36,
     "metadata": {},
     "output_type": "execute_result"
    }
   ],
   "source": [
    "ocschools.head()"
   ]
  },
  {
   "cell_type": "code",
   "execution_count": 37,
   "id": "7c2a7c4a",
   "metadata": {},
   "outputs": [],
   "source": [
    "sbschools = CA_schools[CA_schools.CNTY == '06071']"
   ]
  },
  {
   "cell_type": "code",
   "execution_count": 38,
   "id": "22670623",
   "metadata": {},
   "outputs": [
    {
     "data": {
      "text/html": [
       "<div>\n",
       "<style scoped>\n",
       "    .dataframe tbody tr th:only-of-type {\n",
       "        vertical-align: middle;\n",
       "    }\n",
       "\n",
       "    .dataframe tbody tr th {\n",
       "        vertical-align: top;\n",
       "    }\n",
       "\n",
       "    .dataframe thead th {\n",
       "        text-align: right;\n",
       "    }\n",
       "</style>\n",
       "<table border=\"1\" class=\"dataframe\">\n",
       "  <thead>\n",
       "    <tr style=\"text-align: right;\">\n",
       "      <th></th>\n",
       "      <th>SrcName</th>\n",
       "      <th>ncessch</th>\n",
       "      <th>schnam</th>\n",
       "      <th>leaid</th>\n",
       "      <th>gslo</th>\n",
       "      <th>gshi</th>\n",
       "      <th>defacto</th>\n",
       "      <th>stAbbrev</th>\n",
       "      <th>openEnroll</th>\n",
       "      <th>Shape_Leng</th>\n",
       "      <th>...</th>\n",
       "      <th>CBSATYPE</th>\n",
       "      <th>CSA</th>\n",
       "      <th>NMCSA</th>\n",
       "      <th>NECTA</th>\n",
       "      <th>NMNECTA</th>\n",
       "      <th>CD</th>\n",
       "      <th>SLDL</th>\n",
       "      <th>SLDU</th>\n",
       "      <th>SCHOOLYEAR</th>\n",
       "      <th>geometry_y</th>\n",
       "    </tr>\n",
       "  </thead>\n",
       "  <tbody>\n",
       "    <tr>\n",
       "      <th>5</th>\n",
       "      <td>Sultana High</td>\n",
       "      <td>060001405093</td>\n",
       "      <td>Sultana High</td>\n",
       "      <td>0600014</td>\n",
       "      <td>09</td>\n",
       "      <td>12</td>\n",
       "      <td>0</td>\n",
       "      <td>CA</td>\n",
       "      <td>0</td>\n",
       "      <td>89979.972891</td>\n",
       "      <td>...</td>\n",
       "      <td>1</td>\n",
       "      <td>348</td>\n",
       "      <td>Los Angeles-Long Beach, CA</td>\n",
       "      <td>N</td>\n",
       "      <td>N</td>\n",
       "      <td>0608</td>\n",
       "      <td>06033</td>\n",
       "      <td>06021</td>\n",
       "      <td>2019-2020</td>\n",
       "      <td>POINT (-117.28670 34.41040)</td>\n",
       "    </tr>\n",
       "    <tr>\n",
       "      <th>6</th>\n",
       "      <td>Hesperia High</td>\n",
       "      <td>060001409072</td>\n",
       "      <td>Hesperia High</td>\n",
       "      <td>0600014</td>\n",
       "      <td>09</td>\n",
       "      <td>12</td>\n",
       "      <td>0</td>\n",
       "      <td>CA</td>\n",
       "      <td>0</td>\n",
       "      <td>44514.216379</td>\n",
       "      <td>...</td>\n",
       "      <td>1</td>\n",
       "      <td>348</td>\n",
       "      <td>Los Angeles-Long Beach, CA</td>\n",
       "      <td>N</td>\n",
       "      <td>N</td>\n",
       "      <td>0608</td>\n",
       "      <td>06033</td>\n",
       "      <td>06021</td>\n",
       "      <td>2019-2020</td>\n",
       "      <td>POINT (-117.34770 34.43010)</td>\n",
       "    </tr>\n",
       "    <tr>\n",
       "      <th>7</th>\n",
       "      <td>Oak Hills High</td>\n",
       "      <td>060001412417</td>\n",
       "      <td>Oak Hills High</td>\n",
       "      <td>0600014</td>\n",
       "      <td>09</td>\n",
       "      <td>12</td>\n",
       "      <td>0</td>\n",
       "      <td>CA</td>\n",
       "      <td>0</td>\n",
       "      <td>46504.030397</td>\n",
       "      <td>...</td>\n",
       "      <td>1</td>\n",
       "      <td>348</td>\n",
       "      <td>Los Angeles-Long Beach, CA</td>\n",
       "      <td>N</td>\n",
       "      <td>N</td>\n",
       "      <td>0608</td>\n",
       "      <td>06033</td>\n",
       "      <td>06021</td>\n",
       "      <td>2019-2020</td>\n",
       "      <td>POINT (-117.38410 34.38900)</td>\n",
       "    </tr>\n",
       "    <tr>\n",
       "      <th>8</th>\n",
       "      <td>None</td>\n",
       "      <td>060001510305</td>\n",
       "      <td>Lucerne Valley High</td>\n",
       "      <td>0600015</td>\n",
       "      <td>09</td>\n",
       "      <td>12</td>\n",
       "      <td>1</td>\n",
       "      <td>CA</td>\n",
       "      <td>0</td>\n",
       "      <td>260124.495313</td>\n",
       "      <td>...</td>\n",
       "      <td>1</td>\n",
       "      <td>348</td>\n",
       "      <td>Los Angeles-Long Beach, CA</td>\n",
       "      <td>N</td>\n",
       "      <td>N</td>\n",
       "      <td>0608</td>\n",
       "      <td>06033</td>\n",
       "      <td>06016</td>\n",
       "      <td>2019-2020</td>\n",
       "      <td>POINT (-116.93920 34.45720)</td>\n",
       "    </tr>\n",
       "    <tr>\n",
       "      <th>9</th>\n",
       "      <td>Upland HS</td>\n",
       "      <td>060001609086</td>\n",
       "      <td>Upland High</td>\n",
       "      <td>0600016</td>\n",
       "      <td>09</td>\n",
       "      <td>12</td>\n",
       "      <td>0</td>\n",
       "      <td>CA</td>\n",
       "      <td>0</td>\n",
       "      <td>51710.014112</td>\n",
       "      <td>...</td>\n",
       "      <td>1</td>\n",
       "      <td>348</td>\n",
       "      <td>Los Angeles-Long Beach, CA</td>\n",
       "      <td>N</td>\n",
       "      <td>N</td>\n",
       "      <td>0631</td>\n",
       "      <td>06041</td>\n",
       "      <td>06025</td>\n",
       "      <td>2019-2020</td>\n",
       "      <td>POINT (-117.65810 34.10450)</td>\n",
       "    </tr>\n",
       "  </tbody>\n",
       "</table>\n",
       "<p>5 rows × 40 columns</p>\n",
       "</div>"
      ],
      "text/plain": [
       "          SrcName       ncessch               schnam    leaid gslo gshi  \\\n",
       "5    Sultana High  060001405093         Sultana High  0600014   09   12   \n",
       "6   Hesperia High  060001409072        Hesperia High  0600014   09   12   \n",
       "7  Oak Hills High  060001412417       Oak Hills High  0600014   09   12   \n",
       "8            None  060001510305  Lucerne Valley High  0600015   09   12   \n",
       "9       Upland HS  060001609086          Upland High  0600016   09   12   \n",
       "\n",
       "  defacto stAbbrev openEnroll     Shape_Leng  ...  CBSATYPE  CSA  \\\n",
       "5       0       CA          0   89979.972891  ...         1  348   \n",
       "6       0       CA          0   44514.216379  ...         1  348   \n",
       "7       0       CA          0   46504.030397  ...         1  348   \n",
       "8       1       CA          0  260124.495313  ...         1  348   \n",
       "9       0       CA          0   51710.014112  ...         1  348   \n",
       "\n",
       "                        NMCSA NECTA NMNECTA    CD   SLDL   SLDU SCHOOLYEAR  \\\n",
       "5  Los Angeles-Long Beach, CA     N       N  0608  06033  06021  2019-2020   \n",
       "6  Los Angeles-Long Beach, CA     N       N  0608  06033  06021  2019-2020   \n",
       "7  Los Angeles-Long Beach, CA     N       N  0608  06033  06021  2019-2020   \n",
       "8  Los Angeles-Long Beach, CA     N       N  0608  06033  06016  2019-2020   \n",
       "9  Los Angeles-Long Beach, CA     N       N  0631  06041  06025  2019-2020   \n",
       "\n",
       "                    geometry_y  \n",
       "5  POINT (-117.28670 34.41040)  \n",
       "6  POINT (-117.34770 34.43010)  \n",
       "7  POINT (-117.38410 34.38900)  \n",
       "8  POINT (-116.93920 34.45720)  \n",
       "9  POINT (-117.65810 34.10450)  \n",
       "\n",
       "[5 rows x 40 columns]"
      ]
     },
     "execution_count": 38,
     "metadata": {},
     "output_type": "execute_result"
    }
   ],
   "source": [
    "sbschools.head()"
   ]
  },
  {
   "cell_type": "code",
   "execution_count": 40,
   "id": "29a55622",
   "metadata": {},
   "outputs": [],
   "source": [
    "sbschools = geopandas.GeoDataFrame(sbschools, geometry = \"geometry_y\")"
   ]
  },
  {
   "cell_type": "code",
   "execution_count": 41,
   "id": "36a62ab4",
   "metadata": {},
   "outputs": [
    {
     "data": {
      "text/plain": [
       "geopandas.geodataframe.GeoDataFrame"
      ]
     },
     "execution_count": 41,
     "metadata": {},
     "output_type": "execute_result"
    }
   ],
   "source": [
    "type(sbschools)"
   ]
  },
  {
   "cell_type": "code",
   "execution_count": 42,
   "id": "e0c701be",
   "metadata": {},
   "outputs": [
    {
     "data": {
      "text/plain": [
       "<AxesSubplot:>"
      ]
     },
     "execution_count": 42,
     "metadata": {},
     "output_type": "execute_result"
    },
    {
     "data": {
      "image/png": "[encoded data removed]",
      "text/plain": [
       "<Figure size 432x288 with 1 Axes>"
      ]
     },
     "metadata": {
      "needs_background": "light"
     },
     "output_type": "display_data"
    }
   ],
   "source": [
    "sbschools.plot()"
   ]
  },
  {
   "cell_type": "code",
   "execution_count": 43,
   "id": "2035fb48",
   "metadata": {},
   "outputs": [],
   "source": [
    "ocschools = geopandas.GeoDataFrame(sbschools, geometry = \"geometry_y\")"
   ]
  },
  {
   "cell_type": "code",
   "execution_count": 44,
   "id": "bdbe41e5",
   "metadata": {},
   "outputs": [
    {
     "data": {
      "text/plain": [
       "<AxesSubplot:>"
      ]
     },
     "execution_count": 44,
     "metadata": {},
     "output_type": "execute_result"
    },
    {
     "data": {
      "image/png": "[encoded data removed]",
      "text/plain": [
       "<Figure size 432x288 with 1 Axes>"
      ]
     },
     "metadata": {
      "needs_background": "light"
     },
     "output_type": "display_data"
    }
   ],
   "source": [
    "ocschools.plot()"
   ]
  },
  {
   "cell_type": "code",
   "execution_count": 45,
   "id": "4a6d3cb0",
   "metadata": {},
   "outputs": [],
   "source": [
    "sdschools = geopandas.GeoDataFrame(sbschools, geometry = \"geometry_y\")"
   ]
  },
  {
   "cell_type": "code",
   "execution_count": 46,
   "id": "b7d950de",
   "metadata": {},
   "outputs": [
    {
     "data": {
      "text/plain": [
       "<AxesSubplot:>"
      ]
     },
     "execution_count": 46,
     "metadata": {},
     "output_type": "execute_result"
    },
    {
     "data": {
      "image/png": "[encoded data removed]",
      "text/plain": [
       "<Figure size 432x288 with 1 Axes>"
      ]
     },
     "metadata": {
      "needs_background": "light"
     },
     "output_type": "display_data"
    }
   ],
   "source": [
    "sdschools.plot()"
   ]
  },
  {
   "cell_type": "code",
   "execution_count": 47,
   "id": "bbfe6912",
   "metadata": {},
   "outputs": [],
   "source": [
    "rivcoschools = geopandas.GeoDataFrame(sbschools, geometry = \"geometry_y\")"
   ]
  },
  {
   "cell_type": "code",
   "execution_count": 48,
   "id": "20dd9c55",
   "metadata": {},
   "outputs": [
    {
     "data": {
      "text/plain": [
       "<AxesSubplot:>"
      ]
     },
     "execution_count": 48,
     "metadata": {},
     "output_type": "execute_result"
    },
    {
     "data": {
      "image/png": "[encoded data removed]",
      "text/plain": [
       "<Figure size 432x288 with 1 Axes>"
      ]
     },
     "metadata": {
      "needs_background": "light"
     },
     "output_type": "display_data"
    }
   ],
   "source": [
    "rivcoschools.plot()"
   ]
  },
  {
   "cell_type": "code",
   "execution_count": 49,
   "id": "cbf1ef6e",
   "metadata": {},
   "outputs": [],
   "source": [
    "counties = pandas.concat([sdschools, rivcoschools, sbschools, ocschools], axis = 1) "
   ]
  },
  {
   "cell_type": "code",
   "execution_count": 50,
   "id": "3930756b",
   "metadata": {},
   "outputs": [
    {
     "data": {
      "text/plain": [
       "geopandas.geodataframe.GeoDataFrame"
      ]
     },
     "execution_count": 50,
     "metadata": {},
     "output_type": "execute_result"
    }
   ],
   "source": [
    "type(counties)"
   ]
  },
  {
   "cell_type": "code",
   "execution_count": 51,
   "id": "a01399e3",
   "metadata": {},
   "outputs": [
    {
     "data": {
      "text/plain": [
       "(54, 160)"
      ]
     },
     "execution_count": 51,
     "metadata": {},
     "output_type": "execute_result"
    }
   ],
   "source": [
    "counties.shape"
   ]
  },
  {
   "cell_type": "code",
   "execution_count": 52,
   "id": "197e5b31",
   "metadata": {},
   "outputs": [
    {
     "ename": "ValueError",
     "evalue": "'data' should be a 1-dimensional array of geometry objects.",
     "output_type": "error",
     "traceback": [
      "\u001b[0;31m---------------------------------------------------------------------------\u001b[0m",
      "\u001b[0;31mValueError\u001b[0m                                Traceback (most recent call last)",
      "\u001b[0;32m<ipython-input-52-3b6e759b798d>\u001b[0m in \u001b[0;36m<module>\u001b[0;34m\u001b[0m\n\u001b[0;32m----> 1\u001b[0;31m \u001b[0mcounties\u001b[0m \u001b[0;34m=\u001b[0m \u001b[0mgeopandas\u001b[0m\u001b[0;34m.\u001b[0m\u001b[0mGeoDataFrame\u001b[0m\u001b[0;34m(\u001b[0m\u001b[0mcounties\u001b[0m\u001b[0;34m,\u001b[0m \u001b[0mgeometry\u001b[0m \u001b[0;34m=\u001b[0m \u001b[0;34m\"geometry_y\"\u001b[0m\u001b[0;34m)\u001b[0m\u001b[0;34m\u001b[0m\u001b[0;34m\u001b[0m\u001b[0m\n\u001b[0m",
      "\u001b[0;32m/opt/tljh/user/lib/python3.7/site-packages/geopandas/geodataframe.py\u001b[0m in \u001b[0;36m__init__\u001b[0;34m(self, *args, **kwargs)\u001b[0m\n\u001b[1;32m    149\u001b[0m                 )\n\u001b[1;32m    150\u001b[0m                 \u001b[0;31m# TODO: raise error in 0.9 or 0.10.\u001b[0m\u001b[0;34m\u001b[0m\u001b[0;34m\u001b[0m\u001b[0;34m\u001b[0m\u001b[0m\n\u001b[0;32m--> 151\u001b[0;31m             \u001b[0mself\u001b[0m\u001b[0;34m.\u001b[0m\u001b[0mset_geometry\u001b[0m\u001b[0;34m(\u001b[0m\u001b[0mgeometry\u001b[0m\u001b[0;34m,\u001b[0m \u001b[0minplace\u001b[0m\u001b[0;34m=\u001b[0m\u001b[0;32mTrue\u001b[0m\u001b[0;34m)\u001b[0m\u001b[0;34m\u001b[0m\u001b[0;34m\u001b[0m\u001b[0m\n\u001b[0m\u001b[1;32m    152\u001b[0m         \u001b[0mself\u001b[0m\u001b[0;34m.\u001b[0m\u001b[0m_invalidate_sindex\u001b[0m\u001b[0;34m(\u001b[0m\u001b[0;34m)\u001b[0m\u001b[0;34m\u001b[0m\u001b[0;34m\u001b[0m\u001b[0m\n\u001b[1;32m    153\u001b[0m \u001b[0;34m\u001b[0m\u001b[0m\n",
      "\u001b[0;32m/opt/tljh/user/lib/python3.7/site-packages/geopandas/geodataframe.py\u001b[0m in \u001b[0;36mset_geometry\u001b[0;34m(self, col, drop, inplace, crs)\u001b[0m\n\u001b[1;32m    252\u001b[0m \u001b[0;34m\u001b[0m\u001b[0m\n\u001b[1;32m    253\u001b[0m         \u001b[0;31m# Check that we are using a listlike of geometries\u001b[0m\u001b[0;34m\u001b[0m\u001b[0;34m\u001b[0m\u001b[0;34m\u001b[0m\u001b[0m\n\u001b[0;32m--> 254\u001b[0;31m         \u001b[0mlevel\u001b[0m \u001b[0;34m=\u001b[0m \u001b[0m_ensure_geometry\u001b[0m\u001b[0;34m(\u001b[0m\u001b[0mlevel\u001b[0m\u001b[0;34m,\u001b[0m \u001b[0mcrs\u001b[0m\u001b[0;34m=\u001b[0m\u001b[0mcrs\u001b[0m\u001b[0;34m)\u001b[0m\u001b[0;34m\u001b[0m\u001b[0;34m\u001b[0m\u001b[0m\n\u001b[0m\u001b[1;32m    255\u001b[0m         \u001b[0mindex\u001b[0m \u001b[0;34m=\u001b[0m \u001b[0mframe\u001b[0m\u001b[0;34m.\u001b[0m\u001b[0mindex\u001b[0m\u001b[0;34m\u001b[0m\u001b[0;34m\u001b[0m\u001b[0m\n\u001b[1;32m    256\u001b[0m         \u001b[0mframe\u001b[0m\u001b[0;34m[\u001b[0m\u001b[0mgeo_column_name\u001b[0m\u001b[0;34m]\u001b[0m \u001b[0;34m=\u001b[0m \u001b[0mlevel\u001b[0m\u001b[0;34m\u001b[0m\u001b[0;34m\u001b[0m\u001b[0m\n",
      "\u001b[0;32m/opt/tljh/user/lib/python3.7/site-packages/geopandas/geodataframe.py\u001b[0m in \u001b[0;36m_ensure_geometry\u001b[0;34m(data, crs)\u001b[0m\n\u001b[1;32m     40\u001b[0m             \u001b[0;32mreturn\u001b[0m \u001b[0mGeoSeries\u001b[0m\u001b[0;34m(\u001b[0m\u001b[0mout\u001b[0m\u001b[0;34m,\u001b[0m \u001b[0mindex\u001b[0m\u001b[0;34m=\u001b[0m\u001b[0mdata\u001b[0m\u001b[0;34m.\u001b[0m\u001b[0mindex\u001b[0m\u001b[0;34m,\u001b[0m \u001b[0mname\u001b[0m\u001b[0;34m=\u001b[0m\u001b[0mdata\u001b[0m\u001b[0;34m.\u001b[0m\u001b[0mname\u001b[0m\u001b[0;34m)\u001b[0m\u001b[0;34m\u001b[0m\u001b[0;34m\u001b[0m\u001b[0m\n\u001b[1;32m     41\u001b[0m         \u001b[0;32melse\u001b[0m\u001b[0;34m:\u001b[0m\u001b[0;34m\u001b[0m\u001b[0;34m\u001b[0m\u001b[0m\n\u001b[0;32m---> 42\u001b[0;31m             \u001b[0mout\u001b[0m \u001b[0;34m=\u001b[0m \u001b[0mfrom_shapely\u001b[0m\u001b[0;34m(\u001b[0m\u001b[0mdata\u001b[0m\u001b[0;34m,\u001b[0m \u001b[0mcrs\u001b[0m\u001b[0;34m=\u001b[0m\u001b[0mcrs\u001b[0m\u001b[0;34m)\u001b[0m\u001b[0;34m\u001b[0m\u001b[0;34m\u001b[0m\u001b[0m\n\u001b[0m\u001b[1;32m     43\u001b[0m             \u001b[0;32mreturn\u001b[0m \u001b[0mout\u001b[0m\u001b[0;34m\u001b[0m\u001b[0;34m\u001b[0m\u001b[0m\n\u001b[1;32m     44\u001b[0m \u001b[0;34m\u001b[0m\u001b[0m\n",
      "\u001b[0;32m/opt/tljh/user/lib/python3.7/site-packages/geopandas/array.py\u001b[0m in \u001b[0;36mfrom_shapely\u001b[0;34m(data, crs)\u001b[0m\n\u001b[1;32m    164\u001b[0m \u001b[0;34m\u001b[0m\u001b[0m\n\u001b[1;32m    165\u001b[0m     \"\"\"\n\u001b[0;32m--> 166\u001b[0;31m     \u001b[0;32mreturn\u001b[0m \u001b[0mGeometryArray\u001b[0m\u001b[0;34m(\u001b[0m\u001b[0mvectorized\u001b[0m\u001b[0;34m.\u001b[0m\u001b[0mfrom_shapely\u001b[0m\u001b[0;34m(\u001b[0m\u001b[0mdata\u001b[0m\u001b[0;34m)\u001b[0m\u001b[0;34m,\u001b[0m \u001b[0mcrs\u001b[0m\u001b[0;34m=\u001b[0m\u001b[0mcrs\u001b[0m\u001b[0;34m)\u001b[0m\u001b[0;34m\u001b[0m\u001b[0;34m\u001b[0m\u001b[0m\n\u001b[0m\u001b[1;32m    167\u001b[0m \u001b[0;34m\u001b[0m\u001b[0m\n\u001b[1;32m    168\u001b[0m \u001b[0;34m\u001b[0m\u001b[0m\n",
      "\u001b[0;32m/opt/tljh/user/lib/python3.7/site-packages/geopandas/array.py\u001b[0m in \u001b[0;36m__init__\u001b[0;34m(self, data, crs)\u001b[0m\n\u001b[1;32m    274\u001b[0m         \u001b[0;32melif\u001b[0m \u001b[0;32mnot\u001b[0m \u001b[0mdata\u001b[0m\u001b[0;34m.\u001b[0m\u001b[0mndim\u001b[0m \u001b[0;34m==\u001b[0m \u001b[0;36m1\u001b[0m\u001b[0;34m:\u001b[0m\u001b[0;34m\u001b[0m\u001b[0;34m\u001b[0m\u001b[0m\n\u001b[1;32m    275\u001b[0m             raise ValueError(\n\u001b[0;32m--> 276\u001b[0;31m                 \u001b[0;34m\"'data' should be a 1-dimensional array of geometry objects.\"\u001b[0m\u001b[0;34m\u001b[0m\u001b[0;34m\u001b[0m\u001b[0m\n\u001b[0m\u001b[1;32m    277\u001b[0m             )\n\u001b[1;32m    278\u001b[0m         \u001b[0mself\u001b[0m\u001b[0;34m.\u001b[0m\u001b[0mdata\u001b[0m \u001b[0;34m=\u001b[0m \u001b[0mdata\u001b[0m\u001b[0;34m\u001b[0m\u001b[0;34m\u001b[0m\u001b[0m\n",
      "\u001b[0;31mValueError\u001b[0m: 'data' should be a 1-dimensional array of geometry objects."
     ]
    }
   ],
   "source": [
    "counties = geopandas.GeoDataFrame(counties, geometry = \"geometry_y\")"
   ]
  },
  {
   "cell_type": "code",
   "execution_count": null,
   "id": "c61639ce",
   "metadata": {},
   "outputs": [],
   "source": []
  }
 ],
 "metadata": {
  "kernelspec": {
   "display_name": "Python 3",
   "language": "python",
   "name": "python3"
  },
  "language_info": {
   "codemirror_mode": {
    "name": "ipython",
    "version": 3
   },
   "file_extension": ".py",
   "mimetype": "text/x-python",
   "name": "python",
   "nbconvert_exporter": "python",
   "pygments_lexer": "ipython3",
   "version": "3.7.3"
  }
 },
 "nbformat": 4,
 "nbformat_minor": 5
}
